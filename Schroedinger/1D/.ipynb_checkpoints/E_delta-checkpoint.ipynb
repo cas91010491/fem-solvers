{
 "metadata": {
  "name": ""
 },
 "nbformat": 3,
 "nbformat_minor": 0,
 "worksheets": [
  {
   "cells": [
    {
     "cell_type": "code",
     "collapsed": false,
     "input": [
      "from dolfin import *\n",
      "import matplotlib.pyplot as plt\n",
      "import numpy as np\n",
      "import time"
     ],
     "language": "python",
     "metadata": {},
     "outputs": [],
     "prompt_number": 176
    },
    {
     "cell_type": "code",
     "collapsed": false,
     "input": [
      "#suppress some output\n",
      "import logging\n",
      "logging.getLogger('FFC').setLevel(logging.WARNING)"
     ],
     "language": "python",
     "metadata": {},
     "outputs": [],
     "prompt_number": 177
    },
    {
     "cell_type": "code",
     "collapsed": false,
     "input": [
      "#define mesh and function space\n",
      "n = 100\n",
      "L = 50.0\n",
      "mesh = IntervalMesh(n,-L/2.0, L/2.0)\n",
      "J = 11\n",
      "DELTA = np.linspace(0,10,J)\n",
      "\n",
      "evals = int(2*L)\n",
      "\n",
      "V = FunctionSpace(mesh, 'CG', 2)"
     ],
     "language": "python",
     "metadata": {},
     "outputs": [],
     "prompt_number": 178
    },
    {
     "cell_type": "code",
     "collapsed": false,
     "input": [
      "#define boundary\n",
      "def u0_boundary(x, on_boundary):\n",
      "    return on_boundary\n",
      "\n",
      "#apply zero boundary conditions\n",
      "bc = DirichletBC(V, 0, u0_boundary)"
     ],
     "language": "python",
     "metadata": {},
     "outputs": [],
     "prompt_number": 179
    },
    {
     "cell_type": "code",
     "collapsed": false,
     "input": [
      "#define functions\n",
      "u = TrialFunction(V)\n",
      "v = TestFunction(V)\n",
      "\n",
      "#define problem\n",
      "#m = u*v*dx\n",
      "\n",
      "#M = PETScMatrix()\n",
      "#assemble(m, tensor=M)\n",
      "#bc.apply(M)\n",
      "\n",
      "V_e = Expression('cos(2*2*pi*x[0])')\n",
      "W_o = Expression('cos(2*pi*x[0])')\n",
      "\n",
      "E = np.zeros((J,evals))"
     ],
     "language": "python",
     "metadata": {},
     "outputs": [],
     "prompt_number": 180
    },
    {
     "cell_type": "code",
     "collapsed": false,
     "input": [
      "r=0\n",
      "\n",
      "program_starts = time.time()\n",
      "\n",
      "L = inner(Constant(1.0), v)*dx\n",
      "b = PETScVector()\n",
      "\n",
      "for delta in DELTA:\n",
      "\n",
      "    #define problem\n",
      "    kappa = Expression('tanh(delta*x[0])', delta = delta)\n",
      "    a = ( inner(grad(u), grad(v)) + (V_e + delta*kappa*W_o)*u*v )*dx\n",
      "    m = u*v*dx\n",
      "\n",
      "    #assemble stiffness matrix\n",
      "    A = PETScMatrix()\n",
      "    assemble_system(a, L, bc, A_tensor=A, b_tensor=b)\n",
      "    \n",
      "    M = PETScMatrix()\n",
      "    assemble_system(m, L, bc, A_tensor=M, b_tensor=b)\n",
      "    \n",
      "    #create eigensolver\n",
      "    eigensolver = SLEPcEigenSolver(A,M)\n",
      "    eigensolver.parameters['spectrum'] = 'smallest real'\n",
      "    eigensolver.parameters['solver']   = 'krylov-schur'    # 'lapack'\n",
      "    #eigensolver.parameters['tolerance'] = 1.e-10\n",
      "    eigensolver.parameters['problem_type'] = 'gen_hermitian'\n",
      "    #eigensolver.parameters[\"spectral_transform\"] = \"shift-and-invert\"\n",
      "    #eigensolver.parameters[\"spectral_shift\"] = 1.e-10\n",
      "\n",
      "    #solve for eigenvalues\n",
      "    eigensolver.solve(evals)\n",
      "    \n",
      "    for i in range(0,evals):\n",
      "        E[r][i] = eigensolver.get_eigenvalue(i)[0]\n",
      "    \n",
      "    r += 1\n",
      "    print r/float(J)\n",
      "    \n",
      "run_time = time.time() - program_starts\n",
      "print run_time"
     ],
     "language": "python",
     "metadata": {},
     "outputs": [
      {
       "output_type": "stream",
       "stream": "stdout",
       "text": [
        "0.0909090909091\n",
        "0.181818181818\n",
        "0.272727272727"
       ]
      },
      {
       "output_type": "stream",
       "stream": "stdout",
       "text": [
        "\n",
        "0.363636363636\n",
        "0.454545454545"
       ]
      },
      {
       "output_type": "stream",
       "stream": "stdout",
       "text": [
        "\n",
        "0.545454545455\n",
        "0.636363636364"
       ]
      },
      {
       "output_type": "stream",
       "stream": "stdout",
       "text": [
        "\n",
        "0.727272727273\n",
        "0.818181818182"
       ]
      },
      {
       "output_type": "stream",
       "stream": "stdout",
       "text": [
        "\n",
        "0.909090909091\n",
        "1.0"
       ]
      },
      {
       "output_type": "stream",
       "stream": "stdout",
       "text": [
        "\n",
        "0.395123004913\n"
       ]
      }
     ],
     "prompt_number": 181
    },
    {
     "cell_type": "code",
     "collapsed": false,
     "input": [
      "print 'Is symmetric?', np.linalg.norm(A.array() - A.array().T)\n",
      "print 'Is symmetric?', np.linalg.norm(M.array() - M.array().T)\n",
      "A.array()"
     ],
     "language": "python",
     "metadata": {},
     "outputs": [
      {
       "output_type": "stream",
       "stream": "stdout",
       "text": [
        "Is symmetric? 0.0\n",
        "Is symmetric? 0.0\n"
       ]
      },
      {
       "metadata": {},
       "output_type": "pyout",
       "prompt_number": 182,
       "text": [
        "array([[  1.        ,   0.        ,   0.        , ...,   0.        ,\n",
        "          0.        ,   0.        ],\n",
        "       [  0.        ,   8.37142857,  -5.67142857, ...,   0.        ,\n",
        "          0.        ,   0.        ],\n",
        "       [  0.        ,  -5.67142857,  10.47619048, ...,   0.        ,\n",
        "          0.        ,   0.        ],\n",
        "       ..., \n",
        "       [  0.        ,   0.        ,   0.        , ...,  10.47619048,\n",
        "          0.        ,   0.        ],\n",
        "       [  0.        ,   0.        ,   0.        , ...,   0.        ,\n",
        "          1.        ,   0.        ],\n",
        "       [  0.        ,   0.        ,   0.        , ...,   0.        ,\n",
        "          0.        ,  10.47619048]])"
       ]
      }
     ],
     "prompt_number": 182
    },
    {
     "cell_type": "code",
     "collapsed": false,
     "input": [
      "plt.plot(E,DELTA,'k.')\n",
      "#plt.plot(E[:,L+1],DELTA,'r.')\n",
      "plt.show()"
     ],
     "language": "python",
     "metadata": {},
     "outputs": [],
     "prompt_number": 183
    },
    {
     "cell_type": "code",
     "collapsed": false,
     "input": [
      "#R, c, rx, cx = eigensolver.get_eigenpair(int(L+1))\n",
      "#u = Function(V)\n",
      "#u.vector()[:] = rx\n",
      "#plot(u)\n",
      "#interactive()"
     ],
     "language": "python",
     "metadata": {},
     "outputs": [],
     "prompt_number": 184
    },
    {
     "cell_type": "code",
     "collapsed": false,
     "input": [
      "#import scipy.io\n",
      "#scipy.io.savemat(\"Ab.mat\", {\"A\":  A.array()})"
     ],
     "language": "python",
     "metadata": {},
     "outputs": [],
     "prompt_number": 185
    },
    {
     "cell_type": "code",
     "collapsed": false,
     "input": [],
     "language": "python",
     "metadata": {},
     "outputs": [],
     "prompt_number": 185
    }
   ],
   "metadata": {}
  }
 ]
}