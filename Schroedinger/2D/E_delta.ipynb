{
 "metadata": {
  "name": ""
 },
 "nbformat": 3,
 "nbformat_minor": 0,
 "worksheets": [
  {
   "cells": [
    {
     "cell_type": "code",
     "collapsed": false,
     "input": [
      "from dolfin import *\n",
      "import matplotlib.pyplot as plt\n",
      "import numpy as np\n",
      "import time"
     ],
     "language": "python",
     "metadata": {},
     "outputs": [],
     "prompt_number": 10
    },
    {
     "cell_type": "code",
     "collapsed": false,
     "input": [
      "#suppress some output\n",
      "import logging\n",
      "logging.getLogger('FFC').setLevel(logging.WARNING)"
     ],
     "language": "python",
     "metadata": {},
     "outputs": [],
     "prompt_number": 11
    },
    {
     "cell_type": "code",
     "collapsed": false,
     "input": [
      "## Mesh\n",
      "\n",
      "# set grid size\n",
      "mx = 5\n",
      "\n",
      "# set up honeycomb lattice\n",
      "q = 4*np.pi/(sqrt(3))\n",
      "k1 = q*np.array([1,sqrt(3)])/2.0\n",
      "k2 = q*np.array([1,-sqrt(3)])/2.0\n",
      "k3 = k1+k2\n",
      "K = (k1-k2)/3\n",
      "\n",
      "v1_h = np.array([sqrt(3),1])/2.0\n",
      "v2_h = np.array([sqrt(3),-1])/2.0\n",
      "\n",
      "# different edges\n",
      "# a1 = 1; b1 = 1; a2 = 0; b2 = 1;     # armchair\n",
      "a1, b1, a2, b2 = 1, 0, 0, 1       # zigzag\n",
      "# a1 = 3; b1 = 2; a2 = 1; b2 = 1;     # general\n",
      "# a1 = 2; b1 = 1; a2 = 1; b2 = 1;     # general\n",
      "\n",
      "v1 = a1*v1_h + b1*v2_h\n",
      "v2 = a2*v1_h + b2*v2_h\n",
      "\n",
      "ktilde = -b1*k1+a1*k2         # general\n",
      "\n",
      "# mesh size\n",
      "Lx = 1.0         \n",
      "Ly = 18.5\n",
      "\n",
      "my = int(mx*Ly)\n",
      "\n",
      "# create mesh      \n",
      "def honeycomb_cylinder(x, y):\n",
      "    return [v1[0]*x + v2[0]*y, v1[1]*x + v2[1]*y]\n",
      "\n",
      "mesh = RectangleMesh(-Lx/2,-Ly/2,Lx/2-0,Ly/2-0,mx,my, 'left') # \u201cleft\u201d, \u201cright\u201d, \u201cleft/right\u201d, \u201ccrossed\u201d\n",
      "x = mesh.coordinates()[:,0]\n",
      "y = mesh.coordinates()[:,1]\n",
      "\n",
      "x_hat, y_hat = honeycomb_cylinder(x, y)\n",
      "xy_hat_coor = np.array([x_hat, y_hat]).transpose()\n",
      "mesh.coordinates()[:] = xy_hat_coor\n",
      "#plot(mesh), interactive()"
     ],
     "language": "python",
     "metadata": {},
     "outputs": [],
     "prompt_number": 12
    },
    {
     "cell_type": "code",
     "collapsed": false,
     "input": [
      "## Simulation parameters\n",
      "\n",
      "J = 11\n",
      "DELTA = np.linspace(0.0,10.0,J);\n",
      "\n",
      "evals = 2*2*int(Lx*Ly)\n",
      "E = np.zeros((J,evals))\n",
      "\n",
      "r=0"
     ],
     "language": "python",
     "metadata": {},
     "outputs": [],
     "prompt_number": 13
    },
    {
     "cell_type": "code",
     "collapsed": false,
     "input": [
      "## Boundary Conditions\n",
      "\n",
      "# sub domain for Dirichlet boundary condition\n",
      "class DirichletBoundary(SubDomain):\n",
      "    def inside(self, x, on_boundary):\n",
      "        detv = v1[0]*v2[1] - v2[0]*v1[1]\n",
      "        y_r = (-v1[1]*x[0] + v1[0]*x[1])/detv\n",
      "        return bool( ( near(y_r, -Ly/2.0) or near(y_r, Ly/2.0) ) and on_boundary)\n",
      "    \n",
      "# sub domain for Periodic boundary condition\n",
      "class PeriodicBoundary(SubDomain):\n",
      "\n",
      "    # left boundary is \"target domain\" G\n",
      "    def inside(self, x, on_boundary):\n",
      "        detv = v1[0]*v2[1] - v2[0]*v1[1]\n",
      "        x_r = (v2[1]*x[0] - v2[0]*x[1])/detv\n",
      "        return bool( ( near(x_r, -Lx/2.0) and near(x_r, -Lx/2.0) ) and on_boundary)\n",
      "\n",
      "    # map right boundary (H) to left boundary (G)\n",
      "    def map(self, x, y):\n",
      "        detv = v1[0]*v2[1] - v2[0]*v1[1]\n",
      "        x_r = (v2[1]*x[0] - v2[0]*x[1])/detv\n",
      "        y_r = (-v1[1]*x[0] + v1[0]*x[1])/detv \n",
      "        \n",
      "        x_h = x_r - (Lx - 0)\n",
      "        y_h = y_r\n",
      "        \n",
      "        y[0] = v1[0]*x_h + v2[0]*y_h\n",
      "        y[1] = v1[1]*x_h + v2[1]*y_h"
     ],
     "language": "python",
     "metadata": {},
     "outputs": [],
     "prompt_number": 14
    },
    {
     "cell_type": "code",
     "collapsed": false,
     "input": [
      "## Finite Elements\n",
      "\n",
      "periodic = PeriodicBoundary()\n",
      "V = FunctionSpace(mesh, \"CG\", 2, constrained_domain=periodic)\n",
      "\n",
      "# create Dirichlet boundary condition\n",
      "u0 = Constant(0.0)\n",
      "dbc = DirichletBoundary()\n",
      "bc0 = DirichletBC(V, u0, dbc)\n",
      "\n",
      "# define functions\n",
      "u = TrialFunction(V)\n",
      "v = TestFunction(V)\n",
      "\n",
      "# potential terms\n",
      "V_e = Expression('cos(k10*x[0]+k11*x[1]) + cos(k20*x[0]+k21*x[1]) + cos(k30*x[0]+k31*x[1])', \\\n",
      "                 k10=k1[0], k11=k1[1], k20=k2[0], k21=k2[1], k30=k3[0], k31=k3[1])\n",
      "W_o = Expression('sin(k10*x[0]+k11*x[1]) + sin(k20*x[0]+k21*x[1]) + sin(k30*x[0]+k31*x[1])', \\\n",
      "                 k10=k1[0], k11=k1[1], k20=k2[0], k21=k2[1], k30=k3[0], k31=k3[1])"
     ],
     "language": "python",
     "metadata": {},
     "outputs": [
      {
       "output_type": "stream",
       "stream": "stderr",
       "text": [
        "DEBUG:UFL:No integrals left after transformation, returning empty form.\n"
       ]
      }
     ],
     "prompt_number": 15
    },
    {
     "cell_type": "code",
     "collapsed": false,
     "input": [
      "## Computations\n",
      "\n",
      "# assemble mass matrix\n",
      "m = u*v*dx\n",
      "M = PETScMatrix()\n",
      "#assemble(m, tensor=M)\n",
      "\n",
      "L = inner(Constant(1), v)*dx\n",
      "b = PETScVector()\n",
      "assemble_system(m, L, A_tensor=M, b_tensor=b)\n",
      "\n",
      "# eigenvalue solver\n",
      "def compute_evals(A, E, M, r):\n",
      "    \n",
      "    # create eigensolver\n",
      "    eigensolver = SLEPcEigenSolver(A,M)\n",
      "    eigensolver.parameters['spectrum'] = 'smallest real'\n",
      "    eigensolver.parameters['solver']   = 'krylov-schur'    # 'krylov-schur' 'lapack'\n",
      "    eigensolver.parameters['tolerance'] = 1.e-10    # 1.e-15\n",
      "\n",
      "    # solve for eigenvalues\n",
      "    eigensolver.solve(evals)\n",
      "    \n",
      "    for i in range(0,evals):\n",
      "        E[r][i] = eigensolver.get_eigenvalue(i)[0]\n",
      "    \n",
      "    return np.sort(E)\n",
      "\n",
      "program_starts = time.time()\n",
      "\n",
      "# main computation\n",
      "a_0 = inner(grad(u), grad(v))\n",
      "for delta in DELTA:\n",
      "\n",
      "    # define problem\n",
      "    kappa = Expression('tanh(delta*(k0*x[0]+k1*x[1]))', delta = delta, k0=ktilde[0], k1=ktilde[1])\n",
      "    a = ( a_0 + (V_e + delta*kappa*W_o)*u*v )*dx\n",
      "    \n",
      "    # assemble stiffness matrix\n",
      "    A = PETScMatrix()\n",
      "    \n",
      "    #assemble(a, tensor=A)\n",
      "    #bc0.apply(A)\n",
      "    #bc0.zero(A)\n",
      "    \n",
      "    assemble_system(a, L, bc0, A_tensor=A, b_tensor=b)\n",
      "    \n",
      "    E = compute_evals(A, E, M, r)\n",
      "    \n",
      "    r += 1\n",
      "    print r/float(J)\n",
      "    \n",
      "print time.time() - program_starts"
     ],
     "language": "python",
     "metadata": {},
     "outputs": [
      {
       "output_type": "stream",
       "stream": "stderr",
       "text": [
        "DEBUG:UFL:No integrals left after transformation, returning empty form.\n"
       ]
      },
      {
       "output_type": "stream",
       "stream": "stderr",
       "text": [
        "DEBUG:UFL:No integrals left after transformation, returning empty form.\n"
       ]
      },
      {
       "output_type": "stream",
       "stream": "stderr",
       "text": [
        "DEBUG:UFL:No integrals left after transformation, returning empty form.\n"
       ]
      },
      {
       "output_type": "stream",
       "stream": "stderr",
       "text": [
        "DEBUG:UFL:No integrals left after transformation, returning empty form.\n"
       ]
      },
      {
       "output_type": "stream",
       "stream": "stderr",
       "text": [
        "DEBUG:UFL:No integrals left after transformation, returning empty form.\n"
       ]
      },
      {
       "output_type": "stream",
       "stream": "stderr",
       "text": [
        "DEBUG:UFL:No integrals left after transformation, returning empty form.\n"
       ]
      },
      {
       "output_type": "stream",
       "stream": "stderr",
       "text": [
        "DEBUG:UFL:No integrals left after transformation, returning empty form.\n"
       ]
      },
      {
       "output_type": "stream",
       "stream": "stdout",
       "text": [
        "0.0909090909091\n",
        "0.181818181818"
       ]
      },
      {
       "output_type": "stream",
       "stream": "stderr",
       "text": [
        "DEBUG:UFL:No integrals left after transformation, returning empty form.\n"
       ]
      },
      {
       "output_type": "stream",
       "stream": "stderr",
       "text": [
        "DEBUG:UFL:No integrals left after transformation, returning empty form.\n"
       ]
      },
      {
       "output_type": "stream",
       "stream": "stdout",
       "text": [
        "\n",
        "0.272727272727"
       ]
      },
      {
       "output_type": "stream",
       "stream": "stderr",
       "text": [
        "DEBUG:UFL:No integrals left after transformation, returning empty form.\n"
       ]
      },
      {
       "output_type": "stream",
       "stream": "stderr",
       "text": [
        "DEBUG:UFL:No integrals left after transformation, returning empty form.\n"
       ]
      },
      {
       "output_type": "stream",
       "stream": "stdout",
       "text": [
        "\n",
        "0.363636363636"
       ]
      },
      {
       "output_type": "stream",
       "stream": "stderr",
       "text": [
        "DEBUG:UFL:No integrals left after transformation, returning empty form.\n"
       ]
      },
      {
       "output_type": "stream",
       "stream": "stderr",
       "text": [
        "DEBUG:UFL:No integrals left after transformation, returning empty form.\n"
       ]
      },
      {
       "output_type": "stream",
       "stream": "stdout",
       "text": [
        "\n",
        "0.454545454545"
       ]
      },
      {
       "output_type": "stream",
       "stream": "stderr",
       "text": [
        "DEBUG:UFL:No integrals left after transformation, returning empty form.\n"
       ]
      },
      {
       "output_type": "stream",
       "stream": "stderr",
       "text": [
        "DEBUG:UFL:No integrals left after transformation, returning empty form.\n"
       ]
      },
      {
       "output_type": "stream",
       "stream": "stdout",
       "text": [
        "\n",
        "0.545454545455"
       ]
      },
      {
       "output_type": "stream",
       "stream": "stderr",
       "text": [
        "DEBUG:UFL:No integrals left after transformation, returning empty form.\n"
       ]
      },
      {
       "output_type": "stream",
       "stream": "stderr",
       "text": [
        "DEBUG:UFL:No integrals left after transformation, returning empty form.\n"
       ]
      },
      {
       "output_type": "stream",
       "stream": "stdout",
       "text": [
        "\n",
        "0.636363636364"
       ]
      },
      {
       "output_type": "stream",
       "stream": "stderr",
       "text": [
        "DEBUG:UFL:No integrals left after transformation, returning empty form.\n"
       ]
      },
      {
       "output_type": "stream",
       "stream": "stderr",
       "text": [
        "DEBUG:UFL:No integrals left after transformation, returning empty form.\n"
       ]
      },
      {
       "output_type": "stream",
       "stream": "stdout",
       "text": [
        "\n",
        "0.727272727273"
       ]
      },
      {
       "output_type": "stream",
       "stream": "stderr",
       "text": [
        "DEBUG:UFL:No integrals left after transformation, returning empty form.\n"
       ]
      },
      {
       "output_type": "stream",
       "stream": "stderr",
       "text": [
        "DEBUG:UFL:No integrals left after transformation, returning empty form.\n"
       ]
      },
      {
       "output_type": "stream",
       "stream": "stdout",
       "text": [
        "\n",
        "0.818181818182"
       ]
      },
      {
       "output_type": "stream",
       "stream": "stderr",
       "text": [
        "DEBUG:UFL:No integrals left after transformation, returning empty form.\n"
       ]
      },
      {
       "output_type": "stream",
       "stream": "stderr",
       "text": [
        "DEBUG:UFL:No integrals left after transformation, returning empty form.\n"
       ]
      },
      {
       "output_type": "stream",
       "stream": "stdout",
       "text": [
        "\n",
        "0.909090909091"
       ]
      },
      {
       "output_type": "stream",
       "stream": "stderr",
       "text": [
        "DEBUG:UFL:No integrals left after transformation, returning empty form.\n"
       ]
      },
      {
       "output_type": "stream",
       "stream": "stderr",
       "text": [
        "DEBUG:UFL:No integrals left after transformation, returning empty form.\n"
       ]
      },
      {
       "output_type": "stream",
       "stream": "stdout",
       "text": [
        "\n",
        "1.0"
       ]
      },
      {
       "output_type": "stream",
       "stream": "stdout",
       "text": [
        "\n",
        "12.4612929821\n"
       ]
      }
     ],
     "prompt_number": 16
    },
    {
     "cell_type": "code",
     "collapsed": false,
     "input": [
      "## Plotting eigenvalues\n",
      "\n",
      "plt.plot(E,DELTA,'k.')\n",
      "#plt.plot(E[:,round(Ly-1)],DELTA,'r.')\n",
      "plt.show()"
     ],
     "language": "python",
     "metadata": {},
     "outputs": [],
     "prompt_number": 17
    },
    {
     "cell_type": "code",
     "collapsed": false,
     "input": [
      "## Plotting eigenfunctions\n",
      "\n",
      "#eigensolver = SLEPcEigenSolver(A,M)\n",
      "#eigensolver.parameters['spectrum'] = 'smallest magnitude'\n",
      "#eigensolver.parameters['solver']   = 'krylov-schur'\n",
      "#eigensolver.parameters['tolerance'] = 1.e-10\n",
      "\n",
      "#eigensolver.solve(evals)\n",
      "\n",
      "#R, c, rx, cx = eigensolver.get_eigenpair(int(round(Ly-1)))\n",
      "#u = Function(V)\n",
      "#u.vector()[:] = rx\n",
      "#plot(u)\n",
      "#interactive()"
     ],
     "language": "python",
     "metadata": {},
     "outputs": [],
     "prompt_number": 18
    }
   ],
   "metadata": {}
  }
 ]
}