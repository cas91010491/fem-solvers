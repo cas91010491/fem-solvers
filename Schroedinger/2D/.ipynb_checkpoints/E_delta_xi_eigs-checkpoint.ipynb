{
 "metadata": {
  "name": ""
 },
 "nbformat": 3,
 "nbformat_minor": 0,
 "worksheets": [
  {
   "cells": [
    {
     "cell_type": "code",
     "collapsed": false,
     "input": [
      "from dolfin import *                                                            \n",
      "import scipy.sparse as sp     \n",
      "from scipy.sparse.linalg import eigsh, eigs\n",
      "\n",
      "import matplotlib.pyplot as plt\n",
      "import numpy as np\n",
      "import time"
     ],
     "language": "python",
     "metadata": {},
     "outputs": [],
     "prompt_number": 21
    },
    {
     "cell_type": "code",
     "collapsed": false,
     "input": [
      "#suppress some output\n",
      "import logging\n",
      "logging.getLogger('FFC').setLevel(logging.WARNING)"
     ],
     "language": "python",
     "metadata": {},
     "outputs": [],
     "prompt_number": 22
    },
    {
     "cell_type": "code",
     "collapsed": false,
     "input": [
      "## Mesh\n",
      "\n",
      "# set grid size\n",
      "mx = 10\n",
      "\n",
      "# set up honeycomb lattice\n",
      "q = 4.0*np.pi/(sqrt(3.0))\n",
      "k1 = q*np.array([1.0,sqrt(3.0)])/2.0\n",
      "k2 = q*np.array([1.0,-sqrt(3.0)])/2.0\n",
      "k3 = k1+k2\n",
      "K = (k1-k2)/3.0\n",
      "\n",
      "v1_h = np.array([sqrt(3),1])/2.0\n",
      "v2_h = np.array([sqrt(3),-1])/2.0\n",
      "\n",
      "# different edges\n",
      "# a1 = 1; b1 = 1; a2 = 0; b2 = 1;     # armchair\n",
      "a1, b1, a2, b2 = 1, 0, 0, 1       # zigzag\n",
      "# a1 = 3; b1 = 2; a2 = 1; b2 = 1;     # general\n",
      "# a1 = 2; b1 = 1; a2 = 1; b2 = 1;     # general\n",
      "\n",
      "v1 = a1*v1_h + b1*v2_h\n",
      "v2 = a2*v1_h + b2*v2_h\n",
      "\n",
      "ktilde = -b1*k1+a1*k2         # general\n",
      "\n",
      "# mesh size\n",
      "Lx = 1.0         \n",
      "Ly = 20.0\n",
      "#Ly = 1.0\n",
      "\n",
      "my = int(mx*Ly*1.0)\n",
      "\n",
      "# create mesh      \n",
      "def honeycomb_cylinder(x, y):\n",
      "    return [v1[0]*x + v2[0]*y, v1[1]*x + v2[1]*y]\n",
      "\n",
      "mesh = RectangleMesh(Point(-Lx/2.0,-Ly/2.0),Point(Lx/2.0-0.0,Ly/2.0-0.0),mx,my, 'left') # \u201cleft\u201d, \u201cright\u201d, \u201cleft/right\u201d, \u201ccrossed\u201d\n",
      "x = mesh.coordinates()[:,0]\n",
      "y = mesh.coordinates()[:,1]\n",
      "\n",
      "x_hat, y_hat = honeycomb_cylinder(x, y)\n",
      "xy_hat_coor = np.array([x_hat, y_hat]).transpose()\n",
      "mesh.coordinates()[:] = xy_hat_coor\n",
      "#plot(mesh), interactive()"
     ],
     "language": "python",
     "metadata": {},
     "outputs": [],
     "prompt_number": 23
    },
    {
     "cell_type": "code",
     "collapsed": false,
     "input": [
      "## Simulation parameters\n",
      "\n",
      "J = 11\n",
      "SHIFT = np.linspace(0.0,0.5,J) - 1.0/3.0\n",
      "evals = 2*2*int(Lx*Ly)\n",
      "E = np.zeros((J,evals))\n",
      "\n",
      "r=0"
     ],
     "language": "python",
     "metadata": {},
     "outputs": [],
     "prompt_number": 24
    },
    {
     "cell_type": "code",
     "collapsed": false,
     "input": [
      "## Boundary Conditions\n",
      "\n",
      "# sub domain for Dirichlet boundary condition\n",
      "class DirichletBoundary(SubDomain):\n",
      "    def inside(self, x, on_boundary):\n",
      "        detv = v1[0]*v2[1] - v2[0]*v1[1]\n",
      "        y_r = (-v1[1]*x[0] + v1[0]*x[1])/detv\n",
      "        return bool( ( near(y_r, -Ly/2.0) or near(y_r, Ly/2.0) ) and on_boundary)\n",
      "    \n",
      "# sub domain for Periodic boundary condition\n",
      "class PeriodicBoundary(SubDomain):\n",
      "\n",
      "    # left boundary is \"target domain\" G\n",
      "    def inside(self, x, on_boundary):\n",
      "        detv = v1[0]*v2[1] - v2[0]*v1[1]\n",
      "        x_r = (v2[1]*x[0] - v2[0]*x[1])/detv\n",
      "        return bool( ( near(x_r, -Lx/2.0) and near(x_r, -Lx/2.0) ) and on_boundary)\n",
      "\n",
      "    # map right boundary (H) to left boundary (G)\n",
      "    def map(self, x, y):\n",
      "        detv = v1[0]*v2[1] - v2[0]*v1[1]\n",
      "        x_r = (v2[1]*x[0] - v2[0]*x[1])/detv\n",
      "        y_r = (-v1[1]*x[0] + v1[0]*x[1])/detv \n",
      "        \n",
      "        x_h = x_r - (Lx - 0)\n",
      "        y_h = y_r\n",
      "        \n",
      "        y[0] = v1[0]*x_h + v2[0]*y_h\n",
      "        y[1] = v1[1]*x_h + v2[1]*y_h\n",
      "        \n",
      "## perfectly periodic problem\n",
      "\n",
      "# sub domain for Periodic boundary condition\n",
      "class PerfectlyPeriodicBoundary(SubDomain):\n",
      "\n",
      "    # left boundary is \"target domain\" G\n",
      "    def inside(self, x, on_boundary):\n",
      "        detv = v1[0]*v2[1] - v2[0]*v1[1]\n",
      "        x_r = (v2[1]*x[0] - v2[0]*x[1])/detv\n",
      "        y_r = (-v1[1]*x[0] + v1[0]*x[1])/detv \n",
      "        \n",
      "        return bool( (near(x_r, -Lx/2.0) or near(y_r, -Ly/2.0)) and \n",
      "                    (not ((near(x_r, -Lx/2.0) and near(y_r, +Ly/2.0)) or \n",
      "                            (near(x_r, +Lx/2.0) and near(y_r, -Ly/2.0))) ) and on_boundary)\n",
      "        \n",
      "    # map right boundary (H) to left boundary (G)\n",
      "    def map(self, x, y):\n",
      "        detv = v1[0]*v2[1] - v2[0]*v1[1]\n",
      "        x_r = (v2[1]*x[0] - v2[0]*x[1])/detv\n",
      "        y_r = (-v1[1]*x[0] + v1[0]*x[1])/detv \n",
      "        \n",
      "        if near(x_r, +Lx/2.0) and near(y_r, +Ly/2.0):\n",
      "            x_h = x_r  - Lx - 0.0\n",
      "            y_h = y_r - Ly - 0.0\n",
      "        elif near(x_r, +Lx/2.0):\n",
      "            x_h = x_r  - Lx - 0.0\n",
      "            y_h = y_r\n",
      "        else:   # near(y_r, +Ly/2.0)\n",
      "            x_h = x_r \n",
      "            y_h = y_r - Ly - 0.0\n",
      "            \n",
      "        y[0] = v1[0]*x_h + v2[0]*y_h\n",
      "        y[1] = v1[1]*x_h + v2[1]*y_h"
     ],
     "language": "python",
     "metadata": {},
     "outputs": [],
     "prompt_number": 25
    },
    {
     "cell_type": "code",
     "collapsed": false,
     "input": [
      "## Finite Elements\n",
      "\n",
      "#periodic = PeriodicBoundary()\n",
      "periodic = PerfectlyPeriodicBoundary()\n",
      "\n",
      "V = FunctionSpace(mesh, \"CG\", 2, constrained_domain=periodic)\n",
      "\n",
      "#W = V*V\n",
      "W = MixedFunctionSpace([V,V])\n",
      "\n",
      "# create Dirichlet boundary condition\n",
      "dbc = DirichletBoundary()\n",
      "bcs = [DirichletBC(W.sub(0), Constant(0.0), dbc), DirichletBC(W.sub(1), Constant(0.0), dbc)]\n",
      "\n",
      "# define functions\n",
      "(u_r, u_i) = TrialFunctions(W)\n",
      "(v_r, v_i) = TestFunctions(W)\n",
      "\n",
      "# potential terms\n",
      "epsilon = 1.0\n",
      "V_e = Expression('cos(k10*x[0]+k11*x[1]) + cos(k20*x[0]+k21*x[1]) + cos(k30*x[0]+k31*x[1])', \\\n",
      "                 k10=k1[0], k11=k1[1], k20=k2[0], k21=k2[1], k30=k3[0], k31=k3[1])\n",
      "W_o = Expression('sin(k10*x[0]+k11*x[1]) + sin(k20*x[0]+k21*x[1]) + sin(k30*x[0]+k31*x[1])', \\\n",
      "                 k10=k1[0], k11=k1[1], k20=k2[0], k21=k2[1], k30=k3[0], k31=k3[1])\n",
      "delta = 0.0\n",
      "#kappa = Expression('tanh(delta*(k0*x[0]+k1*x[1]))', delta = delta, k0=ktilde[0], k1=ktilde[1])\n",
      "kappa = 1.0\n",
      "U_delta = epsilon*V_e + delta*kappa*W_o"
     ],
     "language": "python",
     "metadata": {},
     "outputs": [],
     "prompt_number": 26
    },
    {
     "cell_type": "code",
     "collapsed": false,
     "input": [
      "## Computations\n",
      "\n",
      "# assemble mass matrix\n",
      "m_r = (u_r*v_r + u_i*v_i)*dx\n",
      "m_i = (-u_r*v_i + u_i*v_r)*dx\n",
      "M = PETScMatrix()\n",
      "\n",
      "L = inner(Constant(1.0), v_r+v_i)*dx\n",
      "b = PETScVector()\n",
      "\n",
      "#assemble_system(m_r+m_i, L, bcs, A_tensor=M, b_tensor=b)\n",
      "assemble_system(m_r+m_i, L, A_tensor=M, b_tensor=b)\n",
      "\n",
      "# eigenvalue solver\n",
      "def compute_evals(A, M, evals):\n",
      "    \n",
      "    A = sp.csr_matrix(A.mat().getValuesCSR()[::-1])                                 \n",
      "    M = sp.csr_matrix(M.mat().getValuesCSR()[::-1])\n",
      "    \n",
      "    #Evals, Evecs = eigsh(A, evals, M, which='SM')  \n",
      "    Evals, Evecs = eigs(A, evals, M, which='SR')\n",
      "\n",
      "    #return np.sort(E)\n",
      "    return Evals\n",
      "\n",
      "program_starts = time.time()\n",
      "\n",
      "a_r_delta = U_delta*(u_r*v_r + u_i*v_i)\n",
      "a_i_delta = U_delta*(-u_r*v_i + u_i*v_r)\n",
      "\n",
      "# main computation\n",
      "for xi in SHIFT:\n",
      "    \n",
      "    k_vec = K+xi*k1\n",
      "    k = Constant(k_vec)\n",
      "    \n",
      "    #define problem\n",
      "    a_r = ( a_r_delta + inner(grad(u_r)-k*u_i, grad(v_r)-k*v_i) + inner(grad(u_i)+k*u_r, grad(v_i)+k*v_r) )*dx\n",
      "    a_i = ( a_i_delta + inner(grad(u_i)+k*u_r, grad(v_r)-k*v_i) - inner(grad(u_r)-k*u_i, grad(v_i)+k*v_r) )*dx    \n",
      "    \n",
      "    # assemble stiffness matrix\n",
      "    A = PETScMatrix()\n",
      "    \n",
      "    \n",
      "    #assemble_system(a_r+a_i, L, bcs, A_tensor=A, b_tensor=b)\n",
      "    assemble_system(a_r+a_i, L, A_tensor=A, b_tensor=b)\n",
      "    \n",
      "    E[r] = compute_evals(A, M, evals)\n",
      "    \n",
      "    r += 1\n",
      "    print r/float(J)\n",
      "    \n",
      "print time.time() - program_starts"
     ],
     "language": "python",
     "metadata": {},
     "outputs": [
      {
       "output_type": "stream",
       "stream": "stdout",
       "text": [
        "0.0909090909091\n",
        "0.181818181818"
       ]
      },
      {
       "output_type": "stream",
       "stream": "stdout",
       "text": [
        "\n",
        "0.272727272727"
       ]
      },
      {
       "output_type": "stream",
       "stream": "stdout",
       "text": [
        "\n",
        "0.363636363636"
       ]
      },
      {
       "output_type": "stream",
       "stream": "stdout",
       "text": [
        "\n",
        "0.454545454545"
       ]
      },
      {
       "output_type": "stream",
       "stream": "stdout",
       "text": [
        "\n",
        "0.545454545455"
       ]
      },
      {
       "output_type": "stream",
       "stream": "stdout",
       "text": [
        "\n",
        "0.636363636364"
       ]
      },
      {
       "output_type": "stream",
       "stream": "stdout",
       "text": [
        "\n",
        "0.727272727273"
       ]
      },
      {
       "output_type": "stream",
       "stream": "stdout",
       "text": [
        "\n",
        "0.818181818182"
       ]
      },
      {
       "output_type": "stream",
       "stream": "stdout",
       "text": [
        "\n",
        "0.909090909091"
       ]
      },
      {
       "output_type": "stream",
       "stream": "stdout",
       "text": [
        "\n",
        "1.0"
       ]
      },
      {
       "output_type": "stream",
       "stream": "stdout",
       "text": [
        "\n",
        "85.3894169331\n"
       ]
      }
     ],
     "prompt_number": 27
    },
    {
     "cell_type": "code",
     "collapsed": false,
     "input": [
      "## Plotting eigenvalues\n",
      "\n",
      "kpar = 2.0*np.pi*SHIFT + 2.0*np.pi/3.0\n",
      "\n",
      "plt.plot(kpar,E,'k.')\n",
      "#plt.plot(kpar,E[:,round(2*Ly-1)],'r.')\n",
      "\n",
      "plt.xlabel('\\kpar')\n",
      "plt.ylabel('E')\n",
      "plt.show()"
     ],
     "language": "python",
     "metadata": {},
     "outputs": [],
     "prompt_number": 28
    },
    {
     "cell_type": "code",
     "collapsed": false,
     "input": [
      "## Plotting eigenfunctions\n",
      "    \n",
      "#eigensolver = SLEPcEigenSolver(A,M)\n",
      "#eigensolver.parameters['spectrum'] = 'smallest real'\n",
      "#eigensolver.parameters['solver']   = 'krylov-schur'\n",
      "#eigensolver.parameters['tolerance'] = 1.e-10\n",
      "#\n",
      "#eigensolver.solve(evals)"
     ],
     "language": "python",
     "metadata": {},
     "outputs": [],
     "prompt_number": 29
    },
    {
     "cell_type": "code",
     "collapsed": false,
     "input": [
      "#r, c, rx, cx = eigensolver.get_eigenpair(int(round(2*Ly-1)))\n",
      "#\n",
      "#u = Function(W)\n",
      "#u.vector()[:] = rx\n",
      "#u_r, u_i = split(u)\n",
      "#plot(u_r)\n",
      "#interactive()"
     ],
     "language": "python",
     "metadata": {},
     "outputs": [],
     "prompt_number": 30
    }
   ],
   "metadata": {}
  }
 ]
}