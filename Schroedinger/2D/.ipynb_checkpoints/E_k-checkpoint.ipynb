{
 "metadata": {
  "name": ""
 },
 "nbformat": 3,
 "nbformat_minor": 0,
 "worksheets": [
  {
   "cells": [
    {
     "cell_type": "code",
     "collapsed": false,
     "input": [
      "from dolfin import *\n",
      "import matplotlib.pyplot as plt\n",
      "import numpy as np\n",
      "import time"
     ],
     "language": "python",
     "metadata": {},
     "outputs": [],
     "prompt_number": 55
    },
    {
     "cell_type": "code",
     "collapsed": false,
     "input": [
      "#suppress some output\n",
      "import logging\n",
      "logging.getLogger('FFC').setLevel(logging.WARNING)"
     ],
     "language": "python",
     "metadata": {},
     "outputs": [],
     "prompt_number": 56
    },
    {
     "cell_type": "code",
     "collapsed": false,
     "input": [
      "## Mesh\n",
      "\n",
      "# set grid size\n",
      "mx = 10\n",
      "\n",
      "# set up honeycomb lattice\n",
      "q = 4*np.pi/(sqrt(3))\n",
      "k1 = q*np.array([1,sqrt(3)])/2.0\n",
      "k2 = q*np.array([1,-sqrt(3)])/2.0\n",
      "k3 = k1+k2\n",
      "K = (k1-k2)/3\n",
      "\n",
      "v1_h = np.array([sqrt(3),1])/2.0\n",
      "v2_h = np.array([sqrt(3),-1])/2.0\n",
      "\n",
      "# different edges\n",
      "# a1 = 1; b1 = 1; a2 = 0; b2 = 1;     # armchair\n",
      "a1, b1, a2, b2 = 1, 0, 0, 1       # zigzag\n",
      "# a1 = 3; b1 = 2; a2 = 1; b2 = 1;     # general\n",
      "# a1 = 2; b1 = 1; a2 = 1; b2 = 1;     # general\n",
      "\n",
      "v1 = a1*v1_h + b1*v2_h\n",
      "v2 = a2*v1_h + b2*v2_h\n",
      "\n",
      "ktilde = -b1*k1+a1*k2         # general\n",
      "\n",
      "# mesh size\n",
      "Lx = 1.0         \n",
      "Ly = 1.0\n",
      "\n",
      "my = int(round(mx*Ly))\n",
      "\n",
      "#hy = Ly/float(my)\n",
      "#hx = Lx/float(mx)\n",
      "\n",
      "# create mesh      \n",
      "def honeycomb_cylinder(x, y):\n",
      "    return [v1[0]*x + v2[0]*y, v1[1]*x + v2[1]*y]\n",
      "\n",
      "mesh = RectangleMesh(-Lx/2,-Ly/2,Lx/2-0,Ly/2-0,mx,my, 'left') # \u201cleft\u201d, \u201cright\u201d, \u201cleft/right\u201d, \u201ccrossed\u201d\n",
      "x = mesh.coordinates()[:,0]\n",
      "y = mesh.coordinates()[:,1]\n",
      "\n",
      "x_hat, y_hat = honeycomb_cylinder(x, y)\n",
      "xy_hat_coor = np.array([x_hat, y_hat]).transpose()\n",
      "mesh.coordinates()[:] = xy_hat_coor\n",
      "#plot(mesh), interactive()"
     ],
     "language": "python",
     "metadata": {},
     "outputs": [],
     "prompt_number": 57
    },
    {
     "cell_type": "code",
     "collapsed": false,
     "input": [
      "## Simulation parameters\n",
      "\n",
      "J = 20\n",
      "quasimomentum = np.linspace(-0.5,0.5,J)\n",
      "boundary_0 = K[0]*np.ones((1,J)) + k2[0]*quasimomentum\n",
      "boundary_1 = K[1]*np.ones((1,J)) + k2[1]*quasimomentum\n",
      "boundary = np.concatenate((boundary_0,boundary_1),axis=0)\n",
      "\n",
      "#evals = 2*2*int(Lx*Ly)\n",
      "evals = 3\n",
      "E = np.zeros((J,evals))"
     ],
     "language": "python",
     "metadata": {},
     "outputs": [],
     "prompt_number": 58
    },
    {
     "cell_type": "code",
     "collapsed": false,
     "input": [
      "## Boundary Conditions\n",
      "\n",
      "# sub domain for Periodic boundary condition\n",
      "class PeriodicBoundary(SubDomain):\n",
      "\n",
      "    def inside(self, x, on_boundary):\n",
      "        detv = v1[0]*v2[1] - v2[0]*v1[1]\n",
      "        x_r = (v2[1]*x[0] - v2[0]*x[1])/detv\n",
      "        y_r = (-v1[1]*x[0] + v1[0]*x[1])/detv \n",
      "        \n",
      "        # return True if on left or bottom boundary AND NOT on one of the two slave edges\n",
      "        return bool((near(x_r, -Lx/2.0) or near(y_r, -Ly/2.0)) and \n",
      "            (not ((near(x_r, Lx/2.0) and near(y_r, -Ly/2.0)) or \n",
      "                  (near(x_r, -Lx/2.0) and near(y_r, Ly/2.0)))) and on_boundary)\n",
      "\n",
      "    def map(self, x, y):\n",
      "        detv = v1[0]*v2[1] - v2[0]*v1[1]\n",
      "        x_r = (v2[1]*x[0] - v2[0]*x[1])/detv\n",
      "        y_r = (-v1[1]*x[0] + v1[0]*x[1])/detv \n",
      "        \n",
      "        if near(x_r, Lx/2.0) and near(y_r, Ly/2.0):\n",
      "            x_h = x_r - Lx\n",
      "            y_h = y_r - Ly\n",
      "        elif near(x_r, Lx/2.0):\n",
      "            x_h = x_r - Lx\n",
      "            y_h = y_r\n",
      "        else:   # near(y_r, Ly/2.0)\n",
      "            x_h = x_r\n",
      "            y_h = y_r - Ly\n",
      "            \n",
      "        y[0] = v1[0]*x_h + v2[0]*y_h\n",
      "        y[1] = v1[1]*x_h + v2[1]*y_h"
     ],
     "language": "python",
     "metadata": {},
     "outputs": [],
     "prompt_number": 59
    },
    {
     "cell_type": "code",
     "collapsed": false,
     "input": [
      "## Finite Elements\n",
      "\n",
      "#V = FunctionSpace(mesh, \"CG\", 1, constrained_domain=PeriodicBoundary())\n",
      "periodic = PeriodicBoundary()\n",
      "V = FunctionSpace(mesh, \"CG\", 2, constrained_domain=periodic)\n",
      "\n",
      "#W = V*V\n",
      "W = MixedFunctionSpace([V,V])\n",
      "\n",
      "# define functions\n",
      "(u_r, u_i) = TrialFunctions(W)\n",
      "(v_r, v_i) = TestFunctions(W)\n",
      "\n",
      "# potential terms\n",
      "epsilon = 0.0\n",
      "V_e = Expression('epsilon*(cos(k10*x[0]+k11*x[1]) + cos(k20*x[0]+k21*x[1]) + cos(k30*x[0]+k31*x[1]))', \\\n",
      "                 k10=k1[0], k11=k1[1], k20=k2[0], k21=k2[1], k30=k3[0], k31=k3[1], epsilon=epsilon)\n"
     ],
     "language": "python",
     "metadata": {},
     "outputs": [
      {
       "output_type": "stream",
       "stream": "stderr",
       "text": [
        "DEBUG:UFL:No integrals left after transformation, returning empty form.\n"
       ]
      },
      {
       "output_type": "stream",
       "stream": "stderr",
       "text": [
        "DEBUG:UFL:No integrals left after transformation, returning empty form.\n"
       ]
      }
     ],
     "prompt_number": 60
    },
    {
     "cell_type": "code",
     "collapsed": false,
     "input": [
      "## Computations\n",
      "\n",
      "# assemble mass matrix\n",
      "#m_r = (u_r*v_r - u_i*v_i)*dx\n",
      "#m_i = (u_r*v_i + u_i*v_r)*dx\n",
      "m_r = (u_r*v_r + u_i*v_i)*dx\n",
      "m_i = (-u_r*v_i + u_i*v_r)*dx\n",
      "M = PETScMatrix()\n",
      "#assemble(m_r+m_i, tensor=M)\n",
      "    \n",
      "L = inner(Constant(1.0), u_r+u_i)*dx\n",
      "b = PETScVector()\n",
      "assemble_system(m_r+m_i, L, A_tensor=M, b_tensor=b)\n",
      "\n",
      "# eigenvalue solver\n",
      "def compute_evals(A, E, M, r):\n",
      "    \n",
      "    # create eigensolver\n",
      "    eigensolver = SLEPcEigenSolver(A,M)\n",
      "    eigensolver.parameters['spectrum'] = 'smallest real'\n",
      "    eigensolver.parameters['solver']   = 'krylov-schur'    # 'krylov-schur' 'lapack'\n",
      "    eigensolver.parameters['tolerance'] = 1.e-10   # 1.e-15\n",
      "    #eigensolver.parameters['problem_type'] = 'hermitian'\n",
      "    #eigensolver.parameters['maximum_iterations'] = 200\n",
      "\n",
      "    # solve for eigenvalues\n",
      "    eigensolver.solve(evals)\n",
      "    \n",
      "    #for i in range(0,evals):\n",
      "    for i in range(0,evals):\n",
      "        E[r][i] = eigensolver.get_eigenvalue(i)[0]\n",
      "    \n",
      "    return np.sort(E)\n",
      "\n",
      "program_starts = time.time()\n",
      "\n",
      "#define problem\n",
      "a_r_0 = V_e*(u_r*v_r + u_i*v_i)\n",
      "a_i_0 = V_e*(-u_r*v_i + u_i*v_r)\n",
      "\n",
      "r = 0\n",
      "# main computation\n",
      "for k_vec in boundary.transpose():\n",
      "    \n",
      "    k = Constant(k_vec)\n",
      "\n",
      "    #define problem\n",
      "    a_r = ( a_r_0 +  ( inner((grad(u_r)-k*u_i), grad(v_r)-k*v_i) + inner((grad(u_i)+k*u_r), grad(v_i)+k*v_r) ) )*dx\n",
      "    a_i = ( a_i_0 +  ( inner((grad(u_i)+k*u_r), grad(v_r)-k*v_i) - inner((grad(u_r)-k*u_i), grad(v_i)+k*v_r) ) )*dx\n",
      "\n",
      "    # assemble stiffness matrix\n",
      "    A = PETScMatrix()\n",
      "    #assemble(a_r+a_i, tensor=A)\n",
      "    \n",
      "    assemble_system(a_r+a_i, L, A_tensor=A, b_tensor=b)\n",
      "    \n",
      "    E = compute_evals(A, E, M, r)\n",
      "    \n",
      "    r += 1\n",
      "    print r/float(J)\n",
      "    \n",
      "print time.time() - program_starts"
     ],
     "language": "python",
     "metadata": {},
     "outputs": [
      {
       "output_type": "stream",
       "stream": "stderr",
       "text": [
        "DEBUG:UFL:No integrals left after transformation, returning empty form.\n"
       ]
      },
      {
       "output_type": "stream",
       "stream": "stderr",
       "text": [
        "DEBUG:UFL:No integrals left after transformation, returning empty form.\n"
       ]
      },
      {
       "output_type": "stream",
       "stream": "stderr",
       "text": [
        "DEBUG:UFL:No integrals left after transformation, returning empty form.\n"
       ]
      },
      {
       "output_type": "stream",
       "stream": "stderr",
       "text": [
        "DEBUG:UFL:No integrals left after transformation, returning empty form.\n"
       ]
      },
      {
       "output_type": "stream",
       "stream": "stderr",
       "text": [
        "DEBUG:UFL:No integrals left after transformation, returning empty form.\n"
       ]
      },
      {
       "output_type": "stream",
       "stream": "stderr",
       "text": [
        "DEBUG:UFL:No integrals left after transformation, returning empty form.\n"
       ]
      },
      {
       "output_type": "stream",
       "stream": "stderr",
       "text": [
        "DEBUG:UFL:No integrals left after transformation, returning empty form.\n"
       ]
      },
      {
       "output_type": "stream",
       "stream": "stdout",
       "text": [
        "0.05\n",
        "0.1"
       ]
      },
      {
       "output_type": "stream",
       "stream": "stderr",
       "text": [
        "DEBUG:UFL:No integrals left after transformation, returning empty form.\n"
       ]
      },
      {
       "output_type": "stream",
       "stream": "stderr",
       "text": [
        "DEBUG:UFL:No integrals left after transformation, returning empty form.\n"
       ]
      },
      {
       "output_type": "stream",
       "stream": "stdout",
       "text": [
        "\n",
        "0.15"
       ]
      },
      {
       "output_type": "stream",
       "stream": "stderr",
       "text": [
        "DEBUG:UFL:No integrals left after transformation, returning empty form.\n"
       ]
      },
      {
       "output_type": "stream",
       "stream": "stderr",
       "text": [
        "DEBUG:UFL:No integrals left after transformation, returning empty form.\n"
       ]
      },
      {
       "output_type": "stream",
       "stream": "stdout",
       "text": [
        "\n",
        "0.2"
       ]
      },
      {
       "output_type": "stream",
       "stream": "stderr",
       "text": [
        "DEBUG:UFL:No integrals left after transformation, returning empty form.\n"
       ]
      },
      {
       "output_type": "stream",
       "stream": "stderr",
       "text": [
        "DEBUG:UFL:No integrals left after transformation, returning empty form.\n"
       ]
      },
      {
       "output_type": "stream",
       "stream": "stderr",
       "text": [
        "DEBUG:UFL:No integrals left after transformation, returning empty form.\n"
       ]
      },
      {
       "output_type": "stream",
       "stream": "stderr",
       "text": [
        "DEBUG:UFL:No integrals left after transformation, returning empty form.\n"
       ]
      },
      {
       "output_type": "stream",
       "stream": "stdout",
       "text": [
        "\n",
        "0.25\n",
        "0.3"
       ]
      },
      {
       "output_type": "stream",
       "stream": "stderr",
       "text": [
        "DEBUG:UFL:No integrals left after transformation, returning empty form.\n"
       ]
      },
      {
       "output_type": "stream",
       "stream": "stderr",
       "text": [
        "DEBUG:UFL:No integrals left after transformation, returning empty form.\n"
       ]
      },
      {
       "output_type": "stream",
       "stream": "stderr",
       "text": [
        "DEBUG:UFL:No integrals left after transformation, returning empty form.\n"
       ]
      },
      {
       "output_type": "stream",
       "stream": "stderr",
       "text": [
        "DEBUG:UFL:No integrals left after transformation, returning empty form.\n"
       ]
      },
      {
       "output_type": "stream",
       "stream": "stdout",
       "text": [
        "\n",
        "0.35\n",
        "0.4"
       ]
      },
      {
       "output_type": "stream",
       "stream": "stderr",
       "text": [
        "DEBUG:UFL:No integrals left after transformation, returning empty form.\n"
       ]
      },
      {
       "output_type": "stream",
       "stream": "stderr",
       "text": [
        "DEBUG:UFL:No integrals left after transformation, returning empty form.\n"
       ]
      },
      {
       "output_type": "stream",
       "stream": "stderr",
       "text": [
        "DEBUG:UFL:No integrals left after transformation, returning empty form.\n"
       ]
      },
      {
       "output_type": "stream",
       "stream": "stderr",
       "text": [
        "DEBUG:UFL:No integrals left after transformation, returning empty form.\n"
       ]
      },
      {
       "output_type": "stream",
       "stream": "stdout",
       "text": [
        "\n",
        "0.45\n",
        "0.5"
       ]
      },
      {
       "output_type": "stream",
       "stream": "stderr",
       "text": [
        "DEBUG:UFL:No integrals left after transformation, returning empty form.\n"
       ]
      },
      {
       "output_type": "stream",
       "stream": "stderr",
       "text": [
        "DEBUG:UFL:No integrals left after transformation, returning empty form.\n"
       ]
      },
      {
       "output_type": "stream",
       "stream": "stderr",
       "text": [
        "DEBUG:UFL:No integrals left after transformation, returning empty form.\n"
       ]
      },
      {
       "output_type": "stream",
       "stream": "stderr",
       "text": [
        "DEBUG:UFL:No integrals left after transformation, returning empty form.\n"
       ]
      },
      {
       "output_type": "stream",
       "stream": "stdout",
       "text": [
        "\n",
        "0.55\n",
        "0.6"
       ]
      },
      {
       "output_type": "stream",
       "stream": "stderr",
       "text": [
        "DEBUG:UFL:No integrals left after transformation, returning empty form.\n"
       ]
      },
      {
       "output_type": "stream",
       "stream": "stderr",
       "text": [
        "DEBUG:UFL:No integrals left after transformation, returning empty form.\n"
       ]
      },
      {
       "output_type": "stream",
       "stream": "stdout",
       "text": [
        "\n",
        "0.65"
       ]
      },
      {
       "output_type": "stream",
       "stream": "stderr",
       "text": [
        "DEBUG:UFL:No integrals left after transformation, returning empty form.\n"
       ]
      },
      {
       "output_type": "stream",
       "stream": "stderr",
       "text": [
        "DEBUG:UFL:No integrals left after transformation, returning empty form.\n"
       ]
      },
      {
       "output_type": "stream",
       "stream": "stderr",
       "text": [
        "DEBUG:UFL:No integrals left after transformation, returning empty form.\n"
       ]
      },
      {
       "output_type": "stream",
       "stream": "stderr",
       "text": [
        "DEBUG:UFL:No integrals left after transformation, returning empty form.\n"
       ]
      },
      {
       "output_type": "stream",
       "stream": "stdout",
       "text": [
        "\n",
        "0.7\n",
        "0.75"
       ]
      },
      {
       "output_type": "stream",
       "stream": "stderr",
       "text": [
        "DEBUG:UFL:No integrals left after transformation, returning empty form.\n"
       ]
      },
      {
       "output_type": "stream",
       "stream": "stderr",
       "text": [
        "DEBUG:UFL:No integrals left after transformation, returning empty form.\n"
       ]
      },
      {
       "output_type": "stream",
       "stream": "stdout",
       "text": [
        "\n",
        "0.8"
       ]
      },
      {
       "output_type": "stream",
       "stream": "stderr",
       "text": [
        "DEBUG:UFL:No integrals left after transformation, returning empty form.\n"
       ]
      },
      {
       "output_type": "stream",
       "stream": "stderr",
       "text": [
        "DEBUG:UFL:No integrals left after transformation, returning empty form.\n"
       ]
      },
      {
       "output_type": "stream",
       "stream": "stdout",
       "text": [
        "\n",
        "0.85"
       ]
      },
      {
       "output_type": "stream",
       "stream": "stderr",
       "text": [
        "DEBUG:UFL:No integrals left after transformation, returning empty form.\n"
       ]
      },
      {
       "output_type": "stream",
       "stream": "stderr",
       "text": [
        "DEBUG:UFL:No integrals left after transformation, returning empty form.\n"
       ]
      },
      {
       "output_type": "stream",
       "stream": "stdout",
       "text": [
        "\n",
        "0.9"
       ]
      },
      {
       "output_type": "stream",
       "stream": "stderr",
       "text": [
        "DEBUG:UFL:No integrals left after transformation, returning empty form.\n"
       ]
      },
      {
       "output_type": "stream",
       "stream": "stderr",
       "text": [
        "DEBUG:UFL:No integrals left after transformation, returning empty form.\n"
       ]
      },
      {
       "output_type": "stream",
       "stream": "stdout",
       "text": [
        "\n",
        "0.95"
       ]
      },
      {
       "output_type": "stream",
       "stream": "stderr",
       "text": [
        "DEBUG:UFL:No integrals left after transformation, returning empty form.\n"
       ]
      },
      {
       "output_type": "stream",
       "stream": "stderr",
       "text": [
        "DEBUG:UFL:No integrals left after transformation, returning empty form.\n"
       ]
      },
      {
       "output_type": "stream",
       "stream": "stdout",
       "text": [
        "\n",
        "1.0"
       ]
      },
      {
       "output_type": "stream",
       "stream": "stdout",
       "text": [
        "\n",
        "3.47546601295\n"
       ]
      }
     ],
     "prompt_number": 61
    },
    {
     "cell_type": "code",
     "collapsed": false,
     "input": [
      "## Plotting eigenvalues\n",
      "\n",
      "plt.plot(quasimomentum, E,'k.')\n",
      "#plt.plot(E[:,round(2*Ly-1)],DELTA,'r.')\n",
      "plt.show()"
     ],
     "language": "python",
     "metadata": {},
     "outputs": [],
     "prompt_number": 62
    },
    {
     "cell_type": "code",
     "collapsed": false,
     "input": [
      "## Plotting eigenfunctions\n",
      "    \n",
      "#eigensolver = SLEPcEigenSolver(A,M)\n",
      "#eigensolver.parameters['spectrum'] = 'smallest real'\n",
      "#eigensolver.parameters['solver']   = 'krylov-schur'\n",
      "#eigensolver.parameters['tolerance'] = 1.e-10\n",
      "\n",
      "#eigensolver.solve(evals)\n",
      "\n",
      "##r, c, rx, cx = eigensolver.get_eigenpair(int(round(2*Ly-1)))\n",
      "#r, c, rx, cx = eigensolver.get_eigenpair(2)\n",
      "\n",
      "#u = Function(W)\n",
      "#u.vector()[:] = rx\n",
      "#u_r, u_i = split(u)\n",
      "#plot(u_r)\n",
      "##plot(mesh)\n",
      "#interactive()"
     ],
     "language": "python",
     "metadata": {},
     "outputs": [],
     "prompt_number": 63
    },
    {
     "cell_type": "code",
     "collapsed": false,
     "input": [],
     "language": "python",
     "metadata": {},
     "outputs": [],
     "prompt_number": 63
    }
   ],
   "metadata": {}
  }
 ]
}