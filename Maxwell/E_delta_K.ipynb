{
 "cells": [
  {
   "cell_type": "code",
   "execution_count": 25,
   "metadata": {
    "collapsed": false
   },
   "outputs": [],
   "source": [
    "from fenics import * \n",
    "import matplotlib.pyplot as plt\n",
    "import numpy as np\n",
    "import time\n",
    "\n",
    "#suppress some output\n",
    "import logging\n",
    "logging.getLogger('FFC').setLevel(logging.WARNING)"
   ]
  },
  {
   "cell_type": "code",
   "execution_count": 26,
   "metadata": {
    "collapsed": false
   },
   "outputs": [],
   "source": [
    "## Simulation and mesh parameters\n",
    "\n",
    "# mesh size\n",
    "Lx = 1.0         \n",
    "Ly = 20.0\n",
    "\n",
    "# set grid size\n",
    "mx = 20\n",
    "my = int(mx*Ly)\n",
    "\n",
    "# delta slice\n",
    "J = 2\n",
    "DELTA = np.linspace(0.0,1.0,J);\n",
    "\n",
    "# number of eigenvalues\n",
    "evals = 2*2*int(Lx*Ly)\n",
    "E = np.zeros((J,evals))"
   ]
  },
  {
   "cell_type": "code",
   "execution_count": 27,
   "metadata": {
    "collapsed": false
   },
   "outputs": [],
   "source": [
    "## Mesh\n",
    "\n",
    "# set up honeycomb lattice\n",
    "q = 4*np.pi/(sqrt(3))\n",
    "k1 = q*np.array([1,sqrt(3)])/2.0\n",
    "k2 = q*np.array([1,-sqrt(3)])/2.0\n",
    "k3 = -(k1+k2)\n",
    "K = (k1-k2)/3\n",
    "\n",
    "v1_h = np.array([sqrt(3),1])/2.0\n",
    "v2_h = np.array([sqrt(3),-1])/2.0\n",
    "\n",
    "# different edges\n",
    "# a1 = 1; b1 = 1; a2 = 0; b2 = 1;     # armchair\n",
    "a1, b1, a2, b2 = 1, 0, 0, 1       # zigzag\n",
    "# a1 = 3; b1 = 2; a2 = 1; b2 = 1;     # general\n",
    "# a1 = 2; b1 = 1; a2 = 1; b2 = 1;     # general\n",
    "\n",
    "v1 = a1*v1_h + b1*v2_h\n",
    "v2 = a2*v1_h + b2*v2_h\n",
    "\n",
    "ktilde = -b1*k1+a1*k2         # general\n",
    "\n",
    "# create mesh      \n",
    "def honeycomb_cylinder(x, y):\n",
    "    return [v1[0]*x + v2[0]*y, v1[1]*x + v2[1]*y]\n",
    "\n",
    "mesh = RectangleMesh(Point(-Lx/2,-Ly/2),Point(Lx/2,Ly/2),mx,my)#, 'left') # “left”, “right”, “left/right”, “crossed”\n",
    "x = mesh.coordinates()[:,0]\n",
    "y = mesh.coordinates()[:,1]\n",
    "\n",
    "x_hat, y_hat = honeycomb_cylinder(x, y)\n",
    "xy_hat_coor = np.array([x_hat, y_hat]).transpose()\n",
    "mesh.coordinates()[:] = xy_hat_coor\n",
    "#plot(mesh), interactive()"
   ]
  },
  {
   "cell_type": "code",
   "execution_count": 28,
   "metadata": {
    "collapsed": false
   },
   "outputs": [],
   "source": [
    "## Boundary Conditions\n",
    "\n",
    "# sub domain for Dirichlet boundary condition\n",
    "class DirichletBoundary(SubDomain):\n",
    "    def inside(self, x, on_boundary):\n",
    "        detv = v1[0]*v2[1] - v2[0]*v1[1]\n",
    "        y_r = (-v1[1]*x[0] + v1[0]*x[1])/detv\n",
    "        return bool( ( near(y_r, -Ly/2.0) or near(y_r, Ly/2.0) ) and on_boundary)\n",
    "    \n",
    "# sub domain for Periodic boundary condition\n",
    "class PeriodicBoundary(SubDomain):\n",
    "\n",
    "    # left boundary is \"target domain\" G\n",
    "    def inside(self, x, on_boundary):\n",
    "        detv = v1[0]*v2[1] - v2[0]*v1[1]\n",
    "        x_r = (v2[1]*x[0] - v2[0]*x[1])/detv\n",
    "        return bool( ( near(x_r, -Lx/2.0) and near(x_r, -Lx/2.0) ) and on_boundary)\n",
    "\n",
    "    # map right boundary (H) to left boundary (G)\n",
    "    def map(self, x, y):\n",
    "        detv = v1[0]*v2[1] - v2[0]*v1[1]\n",
    "        x_r = (v2[1]*x[0] - v2[0]*x[1])/detv\n",
    "        y_r = (-v1[1]*x[0] + v1[0]*x[1])/detv \n",
    "        \n",
    "        x_h = x_r - (Lx - 0)\n",
    "        y_h = y_r\n",
    "        \n",
    "        y[0] = v1[0]*x_h + v2[0]*y_h\n",
    "        y[1] = v1[1]*x_h + v2[1]*y_h\n",
    "        \n",
    "## perfectly periodic problem\n",
    "\n",
    "# sub domain for Periodic boundary condition\n",
    "class PerfectlyPeriodicBoundary(SubDomain):\n",
    "\n",
    "    # left boundary is \"target domain\" G\n",
    "    def inside(self, x, on_boundary):\n",
    "        detv = v1[0]*v2[1] - v2[0]*v1[1]\n",
    "        x_r = (v2[1]*x[0] - v2[0]*x[1])/detv\n",
    "        y_r = (-v1[1]*x[0] + v1[0]*x[1])/detv \n",
    "        \n",
    "        return bool( (near(x_r, -Lx/2.0) or near(y_r, -Ly/2.0)) and \n",
    "                    (not ((near(x_r, -Lx/2.0) and near(y_r, +Ly/2.0)) or \n",
    "                            (near(x_r, +Lx/2.0) and near(y_r, -Ly/2.0))) ) and on_boundary)\n",
    "        \n",
    "    # map right boundary (H) to left boundary (G)\n",
    "    def map(self, x, y):\n",
    "        detv = v1[0]*v2[1] - v2[0]*v1[1]\n",
    "        x_r = (v2[1]*x[0] - v2[0]*x[1])/detv\n",
    "        y_r = (-v1[1]*x[0] + v1[0]*x[1])/detv \n",
    "        \n",
    "        if near(x_r, +Lx/2.0) and near(y_r, +Ly/2.0):\n",
    "            x_h = x_r  - Lx - 0.0\n",
    "            y_h = y_r - Ly - 0.0\n",
    "        elif near(x_r, +Lx/2.0):\n",
    "            x_h = x_r  - Lx - 0.0\n",
    "            y_h = y_r\n",
    "        else:   # near(y_r, +Ly/2.0)\n",
    "            x_h = x_r \n",
    "            y_h = y_r - Ly - 0.0\n",
    "            \n",
    "        y[0] = v1[0]*x_h + v2[0]*y_h\n",
    "        y[1] = v1[1]*x_h + v2[1]*y_h"
   ]
  },
  {
   "cell_type": "code",
   "execution_count": 29,
   "metadata": {
    "collapsed": false
   },
   "outputs": [],
   "source": [
    "## Finite Elements\n",
    "\n",
    "periodic = PeriodicBoundary()\n",
    "#periodic = PerfectlyPeriodicBoundary()\n",
    "\n",
    "#V = FunctionSpace(mesh, \"CG\", 2, constrained_domain=periodic)\n",
    "\n",
    "P2 = FiniteElement(\"P\", triangle, 2)\n",
    "element = MixedElement([P2, P2])\n",
    "W = FunctionSpace(mesh, element, constrained_domain=periodic)\n",
    "\n",
    "# create Dirichlet boundary condition\n",
    "dbc = DirichletBoundary()\n",
    "bcs = [DirichletBC(W.sub(0), Constant(0.0), dbc), DirichletBC(W.sub(1), Constant(0.0), dbc)]\n",
    "\n",
    "# define functions\n",
    "(u_r, u_i) = TrialFunctions(W)\n",
    "(v_r, v_i) = TestFunctions(W)"
   ]
  },
  {
   "cell_type": "code",
   "execution_count": null,
   "metadata": {
    "collapsed": false
   },
   "outputs": [],
   "source": [
    "## Potential terms\n",
    "V_e = Expression('4.0-1.0*(cos(k10*x[0]+k11*x[1]) + cos(k20*x[0]+k21*x[1]) + cos(k30*x[0]+k31*x[1]))', \\\n",
    "                 k10=k1[0], k11=k1[1], k20=k2[0], k21=k2[1], k30=k3[0], k31=k3[1], degree=1)\n",
    "W_o = Expression('sin(k10*x[0]+k11*x[1]) + sin(k20*x[0]+k21*x[1]) + sin(k30*x[0]+k31*x[1])', \\\n",
    "                 k10=k1[0], k11=k1[1], k20=k2[0], k21=k2[1], k30=k3[0], k31=k3[1], degree=1)\n",
    "V_e_2 = Expression('cos(k10*x[0]+k11*x[1]) + cos(k20*x[0]+k21*x[1]) + cos(k30*x[0]+k31*x[1])', \\\n",
    "                 k10=k1[0], k11=k1[1], k20=k2[0], k21=k2[1], k30=k3[0], k31=k3[1], degree=1)\n",
    "\n",
    "# quasimomentum\n",
    "k = Constant(K)\n",
    "#k = Constant((0,0))\n",
    "#k = Constant(K+(1/2.0-1/3.0)*k1)"
   ]
  },
  {
   "cell_type": "code",
   "execution_count": null,
   "metadata": {
    "collapsed": false
   },
   "outputs": [],
   "source": [
    "## Computations\n",
    "\n",
    "# assemble mass matrix\n",
    "m_r = (u_r*v_r + u_i*v_i)*dx\n",
    "m_i = (-u_r*v_i + u_i*v_r)*dx\n",
    "M = PETScMatrix()\n",
    "assemble(m_r+m_i, tensor=M)\n",
    "\n",
    "#L = inner(Constant(1.0), v_r+v_i)*dx\n",
    "#b = PETScVector()\n",
    "#assemble_system(m_r+m_i, L, A_tensor=M, b_tensor=b)\n",
    "\n",
    "# eigenvalue solver\n",
    "def compute_evals(A, E, M, r):\n",
    "    \n",
    "    # create eigensolver\n",
    "    eigensolver = SLEPcEigenSolver(A,M)\n",
    "    eigensolver.parameters['spectrum'] = 'smallest real'\n",
    "    eigensolver.parameters['solver']   = 'krylov-schur'\n",
    "    eigensolver.parameters['tolerance'] = 1.e-10   # 1.e-12\n",
    "    #eigensolver.parameters['maximum_iterations'] = 1000\n",
    "    #eigensolver.parameters['problem_type'] = 'gen_hermitian'\n",
    "\n",
    "\n",
    "    # solve for eigenvalues\n",
    "    eigensolver.solve(evals)\n",
    "    \n",
    "    for i in range(0,evals):\n",
    "        if i <= (eigensolver.get_number_converged()-1):\n",
    "            E[r][i] = eigensolver.get_eigenvalue(i)[0]\n",
    "    \n",
    "    #return np.sort(E)\n",
    "    return E\n",
    "\n",
    "program_starts = time.time()\n",
    "\n",
    "r = 0\n",
    "\n",
    "# main computation\n",
    "for delta in DELTA:\n",
    "\n",
    "    # define problem\n",
    "    kappa = Expression('tanh(delta*(k0*x[0]+k1*x[1]))', delta = delta, k0=ktilde[0], k1=ktilde[1], degree=1)\n",
    "    \n",
    "    #spatial inversion symmetry breaking\n",
    "    #U_delta = V_e + delta*kappa*W_o\n",
    "    #C = as_matrix( ((U_delta, 0.0), (0.0, U_delta)) )\n",
    "    #a_r = ( inner(C*(grad(u_r)-k*u_i), grad(v_r)-k*v_i) + inner(C*(grad(u_i)+k*u_r), grad(v_i)+k*v_r) )*dx\n",
    "    #a_i = ( inner(C*(grad(u_i)+k*u_r), grad(v_r)-k*v_i) - inner(C*(grad(u_r)-k*u_i), grad(v_i)+k*v_r) )*dx    \n",
    "    \n",
    "    #time reversal symmetry breaking\n",
    "    C_r = as_matrix( ((V_e, 0.0), (0.0, V_e)) )\n",
    "    C_i = as_matrix( ((0.0, -delta*kappa*V_e_2), (delta*kappa*V_e_2, 0.0)) )\n",
    "    a_r = ( inner(C_r*(grad(u_r)-k*u_i), grad(v_r)-k*v_i) + inner(C_r*(grad(u_i)+k*u_r), grad(v_i)+k*v_r) +\\\n",
    "           -inner(C_i*(grad(u_i)+k*u_r), grad(v_r)-k*v_i) + inner(C_i*(grad(u_r)-k*u_i), grad(v_i)+k*v_r) )*dx\n",
    "    a_i = ( inner(C_r*(grad(u_i)+k*u_r), grad(v_r)-k*v_i) - inner(C_r*(grad(u_r)-k*u_i), grad(v_i)+k*v_r) +\\\n",
    "           +inner(C_i*(grad(u_r)-k*u_i), grad(v_r)-k*v_i) + inner(C_i*(grad(u_i)+k*u_r), grad(v_i)+k*v_r) )*dx\n",
    "\n",
    "    # assemble stiffness matrix\n",
    "    A = PETScMatrix()\n",
    "    \n",
    "    assemble(a_r+a_i, tensor=A)\n",
    "    [bc.apply(A) for bc in bcs]\n",
    "    \n",
    "    # assemble_system(a_r+a_i, L, bcs, A_tensor=A, b_tensor=b)\n",
    "    \n",
    "    E = compute_evals(A, E, M, r)\n",
    "    \n",
    "    r += 1\n",
    "    print r/float(J)\n",
    "    \n",
    "print time.time() - program_starts"
   ]
  },
  {
   "cell_type": "code",
   "execution_count": null,
   "metadata": {
    "collapsed": false
   },
   "outputs": [],
   "source": [
    "## Plotting eigenvalues\n",
    "\n",
    "plt.plot(E,DELTA,'k.')\n",
    "# plt.plot(E[:,int(2*Ly+2)],DELTA,'r.')\n",
    "# plt.title('E(delta) Ly20pt5 mx20 kpar0pt5')\n",
    "plt.grid(True)\n",
    "plt.show()"
   ]
  },
  {
   "cell_type": "code",
   "execution_count": null,
   "metadata": {
    "collapsed": false
   },
   "outputs": [],
   "source": [
    "## Plotting eigenfunctions\n",
    "    \n",
    "eigensolver = SLEPcEigenSolver(A,M)\n",
    "eigensolver.parameters['spectrum'] = 'smallest real'\n",
    "eigensolver.parameters['solver']   = 'krylov-schur'\n",
    "eigensolver.parameters['tolerance'] = 1.e-10   # 1.e-12\n",
    "eigensolver.solve(evals)"
   ]
  },
  {
   "cell_type": "code",
   "execution_count": null,
   "metadata": {
    "collapsed": false
   },
   "outputs": [],
   "source": [
    "r, c, rx, cx = eigensolver.get_eigenpair(int(2*Ly+0))\n",
    "\n",
    "u = Function(W)\n",
    "u.vector()[:] = rx\n",
    "u_r, u_i = split(u)\n",
    "plot(u_r)\n",
    "interactive()"
   ]
  },
  {
   "cell_type": "code",
   "execution_count": null,
   "metadata": {
    "collapsed": false
   },
   "outputs": [],
   "source": [
    "#r, c, rx, cx = eigensolver.get_eigenpair(int(2*Ly-2))\n",
    "#\n",
    "#u = Function(W)\n",
    "#u.vector()[:] = rx\n",
    "#u_r, u_i = split(u)\n",
    "#plot(u_r)\n",
    "#interactive()"
   ]
  },
  {
   "cell_type": "code",
   "execution_count": null,
   "metadata": {
    "collapsed": false
   },
   "outputs": [],
   "source": [
    "#r, c, rx, cx = eigensolver.get_eigenpair(int(2*Ly+2))\n",
    "#\n",
    "#u = Function(W)\n",
    "#u.vector()[:] = rx\n",
    "#u_r, u_i = split(u)\n",
    "#plot(u_r)\n",
    "#interactive()"
   ]
  },
  {
   "cell_type": "code",
   "execution_count": null,
   "metadata": {
    "collapsed": false
   },
   "outputs": [],
   "source": [
    "import scipy.io\n",
    "\n",
    "vals = np.empty(((mx + 1) * (my + 1), 2), dtype=np.float_)\n",
    "for v in vertices(mesh):\n",
    "    vals[v.index()] = u(*mesh.coordinates()[v.index()])\n",
    "\n",
    "# scipy.io.savemat('matlab export/Psi_x_test.mat', dict(Psi=vals, x=mesh.coordinates(), mx=mx, my=my))\n",
    "\n",
    "# scipy.sparse.csr_matrix(M.array())"
   ]
  }
 ],
 "metadata": {
  "kernelspec": {
   "display_name": "Python 2",
   "language": "python",
   "name": "python2"
  },
  "language_info": {
   "codemirror_mode": {
    "name": "ipython",
    "version": 2
   },
   "file_extension": ".py",
   "mimetype": "text/x-python",
   "name": "python",
   "nbconvert_exporter": "python",
   "pygments_lexer": "ipython2",
   "version": "2.7.12"
  }
 },
 "nbformat": 4,
 "nbformat_minor": 0
}
