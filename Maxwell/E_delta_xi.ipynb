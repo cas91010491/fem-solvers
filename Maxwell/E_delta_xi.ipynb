{
 "cells": [
  {
   "cell_type": "code",
   "execution_count": 1,
   "metadata": {
    "collapsed": false
   },
   "outputs": [],
   "source": [
    "from fenics import * \n",
    "import matplotlib.pyplot as plt\n",
    "import numpy as np\n",
    "import time\n",
    "\n",
    "#suppress some output\n",
    "import logging\n",
    "logging.getLogger('FFC').setLevel(logging.WARNING)"
   ]
  },
  {
   "cell_type": "code",
   "execution_count": 2,
   "metadata": {
    "collapsed": false
   },
   "outputs": [],
   "source": [
    "## Simulation and mesh parameters\n",
    "\n",
    "# mesh size\n",
    "Lx = 1.0         \n",
    "Ly = 20.0\n",
    "\n",
    "# set grid size\n",
    "mx = 20/1   # 20/2\n",
    "my = int(mx*Ly)\n",
    "\n",
    "# xi slice\n",
    "J = 51\n",
    "#SHIFT = np.linspace(0.0,1.0,J) - 1.0/3.0\n",
    "SHIFT = np.linspace(0.0,1.0,J)\n",
    "\n",
    "# number of eigenvalues\n",
    "evals = 2*2*int(Ly)+14\n",
    "E = np.zeros((J,evals))"
   ]
  },
  {
   "cell_type": "code",
   "execution_count": 3,
   "metadata": {
    "collapsed": false
   },
   "outputs": [],
   "source": [
    "## Mesh\n",
    "\n",
    "# set up honeycomb lattice\n",
    "q = 4*np.pi/(sqrt(3))\n",
    "k1 = q*np.array([1,sqrt(3)])/2.0\n",
    "k2 = q*np.array([1,-sqrt(3)])/2.0\n",
    "k3 = -(k1+k2)\n",
    "K = (k1-k2)/3\n",
    "\n",
    "v1_h = np.array([sqrt(3),1])/2.0\n",
    "v2_h = np.array([sqrt(3),-1])/2.0\n",
    "\n",
    "# different edges\n",
    "a1 = 1; b1 = 1; a2 = 0; b2 = 1;     # armchair\n",
    "# a1, b1, a2, b2 = 1, 0, 0, 1       # zigzag\n",
    "# a1 = 3; b1 = 2; a2 = 1; b2 = 1;     # general\n",
    "# a1 = 2; b1 = 1; a2 = 1; b2 = 1;     # general\n",
    "\n",
    "v1 = a1*v1_h + b1*v2_h\n",
    "v2 = a2*v1_h + b2*v2_h\n",
    "\n",
    "ktilde = -b1*k1+a1*k2         # general\n",
    "\n",
    "# create mesh      \n",
    "def honeycomb_cylinder(x, y):\n",
    "    return [v1[0]*x + v2[0]*y, v1[1]*x + v2[1]*y]\n",
    "\n",
    "mesh = RectangleMesh(Point(-Lx/2,-Ly/2),Point(Lx/2,Ly/2),mx,my)#, 'left') # “left”, “right”, “left/right”, “crossed”\n",
    "x = mesh.coordinates()[:,0]\n",
    "y = mesh.coordinates()[:,1]\n",
    "\n",
    "x_hat, y_hat = honeycomb_cylinder(x, y)\n",
    "xy_hat_coor = np.array([x_hat, y_hat]).transpose()\n",
    "mesh.coordinates()[:] = xy_hat_coor\n",
    "#plot(mesh), interactive()"
   ]
  },
  {
   "cell_type": "code",
   "execution_count": 4,
   "metadata": {
    "collapsed": false
   },
   "outputs": [],
   "source": [
    "## Boundary Conditions\n",
    "\n",
    "# sub domain for Dirichlet boundary condition\n",
    "class DirichletBoundary(SubDomain):\n",
    "    def inside(self, x, on_boundary):\n",
    "        detv = v1[0]*v2[1] - v2[0]*v1[1]\n",
    "        y_r = (-v1[1]*x[0] + v1[0]*x[1])/detv\n",
    "        return bool( ( near(y_r, -Ly/2.0) or near(y_r, Ly/2.0) ) and on_boundary)\n",
    "    \n",
    "# sub domain for Periodic boundary condition\n",
    "class PeriodicBoundary(SubDomain):\n",
    "\n",
    "    # left boundary is \"target domain\" G\n",
    "    def inside(self, x, on_boundary):\n",
    "        detv = v1[0]*v2[1] - v2[0]*v1[1]\n",
    "        x_r = (v2[1]*x[0] - v2[0]*x[1])/detv\n",
    "        return bool( ( near(x_r, -Lx/2.0) and near(x_r, -Lx/2.0) ) and on_boundary)\n",
    "\n",
    "    # map right boundary (H) to left boundary (G)\n",
    "    def map(self, x, y):\n",
    "        detv = v1[0]*v2[1] - v2[0]*v1[1]\n",
    "        x_r = (v2[1]*x[0] - v2[0]*x[1])/detv\n",
    "        y_r = (-v1[1]*x[0] + v1[0]*x[1])/detv \n",
    "        \n",
    "        x_h = x_r - (Lx - 0)\n",
    "        y_h = y_r\n",
    "        \n",
    "        y[0] = v1[0]*x_h + v2[0]*y_h\n",
    "        y[1] = v1[1]*x_h + v2[1]*y_h\n",
    "        \n",
    "## perfectly periodic problem\n",
    "\n",
    "# sub domain for Periodic boundary condition\n",
    "class PerfectlyPeriodicBoundary(SubDomain):\n",
    "\n",
    "    # left boundary is \"target domain\" G\n",
    "    def inside(self, x, on_boundary):\n",
    "        detv = v1[0]*v2[1] - v2[0]*v1[1]\n",
    "        x_r = (v2[1]*x[0] - v2[0]*x[1])/detv\n",
    "        y_r = (-v1[1]*x[0] + v1[0]*x[1])/detv \n",
    "        \n",
    "        return bool( (near(x_r, -Lx/2.0) or near(y_r, -Ly/2.0)) and \n",
    "                    (not ((near(x_r, -Lx/2.0) and near(y_r, +Ly/2.0)) or \n",
    "                            (near(x_r, +Lx/2.0) and near(y_r, -Ly/2.0))) ) and on_boundary)\n",
    "        \n",
    "    # map right boundary (H) to left boundary (G)\n",
    "    def map(self, x, y):\n",
    "        detv = v1[0]*v2[1] - v2[0]*v1[1]\n",
    "        x_r = (v2[1]*x[0] - v2[0]*x[1])/detv\n",
    "        y_r = (-v1[1]*x[0] + v1[0]*x[1])/detv \n",
    "        \n",
    "        if near(x_r, +Lx/2.0) and near(y_r, +Ly/2.0):\n",
    "            x_h = x_r  - Lx - 0.0\n",
    "            y_h = y_r - Ly - 0.0\n",
    "        elif near(x_r, +Lx/2.0):\n",
    "            x_h = x_r  - Lx - 0.0\n",
    "            y_h = y_r\n",
    "        else:   # near(y_r, +Ly/2.0)\n",
    "            x_h = x_r \n",
    "            y_h = y_r - Ly - 0.0\n",
    "            \n",
    "        y[0] = v1[0]*x_h + v2[0]*y_h\n",
    "        y[1] = v1[1]*x_h + v2[1]*y_h"
   ]
  },
  {
   "cell_type": "code",
   "execution_count": 5,
   "metadata": {
    "collapsed": false
   },
   "outputs": [],
   "source": [
    "## Finite Elements\n",
    "\n",
    "periodic = PeriodicBoundary()\n",
    "#periodic = PerfectlyPeriodicBoundary()\n",
    "\n",
    "#V = FunctionSpace(mesh, \"CG\", 2, constrained_domain=periodic)\n",
    "\n",
    "P2 = FiniteElement(\"P\", triangle, 2)\n",
    "element = MixedElement([P2, P2])\n",
    "W = FunctionSpace(mesh, element, constrained_domain=periodic)\n",
    "\n",
    "# create Dirichlet boundary condition\n",
    "dbc = DirichletBoundary()\n",
    "bcs = [DirichletBC(W.sub(0), Constant(0.0), dbc), DirichletBC(W.sub(1), Constant(0.0), dbc)]\n",
    "\n",
    "# define functions\n",
    "(u_r, u_i) = TrialFunctions(W)\n",
    "(v_r, v_i) = TestFunctions(W)"
   ]
  },
  {
   "cell_type": "code",
   "execution_count": 6,
   "metadata": {
    "collapsed": false
   },
   "outputs": [],
   "source": [
    "## Potential terms\n",
    "V_e = Expression('4.0-1.0*(cos(k10*x[0]+k11*x[1]) + cos(k20*x[0]+k21*x[1]) + cos(k30*x[0]+k31*x[1]))', \\\n",
    "                 k10=k1[0], k11=k1[1], k20=k2[0], k21=k2[1], k30=k3[0], k31=k3[1], degree=1)\n",
    "W_o = Expression('sin(k10*x[0]+k11*x[1]) + sin(k20*x[0]+k21*x[1]) + sin(k30*x[0]+k31*x[1])', \\\n",
    "                 k10=k1[0], k11=k1[1], k20=k2[0], k21=k2[1], k30=k3[0], k31=k3[1], degree=1)\n",
    "V_e_2 = Expression('cos(k10*x[0]+k11*x[1]) + cos(k20*x[0]+k21*x[1]) + cos(k30*x[0]+k31*x[1])', \\\n",
    "                 k10=k1[0], k11=k1[1], k20=k2[0], k21=k2[1], k30=k3[0], k31=k3[1], degree=1)\n",
    "\n",
    "delta = 1.0\n",
    "kappa = Expression('tanh(delta*(k0*x[0]+k1*x[1]))', delta = delta, k0=ktilde[0], k1=ktilde[1], degree=1)\n",
    "#kappa = Constant(1.0)\n",
    "\n",
    "#U_delta = V_e + delta*kappa*W_o\n",
    "#C = as_matrix( ((U_delta, 0.0), (0.0, U_delta)) )\n",
    "\n",
    "C_r = as_matrix( ((V_e, 0.0), (0.0, V_e)) )\n",
    "C_i = as_matrix( ((0.0, -delta*kappa*V_e_2), (delta*kappa*V_e_2, 0.0)) )\n",
    "\n",
    "#u = project(delta*kappa*V_e_2, V)\n",
    "#plot(u)\n",
    "#interactive()"
   ]
  },
  {
   "cell_type": "code",
   "execution_count": 7,
   "metadata": {
    "collapsed": false
   },
   "outputs": [
    {
     "name": "stdout",
     "output_type": "stream",
     "text": [
      "0.0196078431373\n",
      "0.0392156862745\n",
      "0.0588235294118\n",
      "0.078431372549\n",
      "0.0980392156863\n",
      "0.117647058824\n",
      "0.137254901961\n",
      "0.156862745098\n",
      "0.176470588235\n",
      "0.196078431373\n",
      "0.21568627451\n",
      "0.235294117647\n",
      "0.254901960784\n",
      "0.274509803922\n",
      "0.294117647059\n",
      "0.313725490196\n",
      "0.333333333333\n",
      "0.352941176471\n",
      "0.372549019608\n",
      "0.392156862745\n",
      "0.411764705882\n",
      "0.43137254902\n",
      "0.450980392157\n",
      "0.470588235294\n",
      "0.490196078431\n",
      "0.509803921569\n",
      "0.529411764706\n",
      "0.549019607843\n",
      "0.56862745098\n",
      "0.588235294118\n",
      "0.607843137255\n",
      "0.627450980392\n",
      "0.647058823529\n",
      "0.666666666667\n",
      "0.686274509804\n",
      "0.705882352941\n",
      "0.725490196078\n",
      "0.745098039216\n",
      "0.764705882353\n",
      "0.78431372549\n",
      "0.803921568627\n",
      "0.823529411765\n",
      "0.843137254902\n",
      "0.862745098039\n",
      "0.882352941176\n",
      "0.901960784314\n",
      "0.921568627451\n",
      "0.941176470588\n",
      "0.960784313725\n",
      "0.980392156863\n",
      "1.0\n",
      "97558.5419118\n"
     ]
    }
   ],
   "source": [
    "## Computations\n",
    "\n",
    "# assemble mass matrix\n",
    "m_r = (u_r*v_r + u_i*v_i)*dx\n",
    "m_i = (-u_r*v_i + u_i*v_r)*dx\n",
    "M = PETScMatrix()\n",
    "assemble(m_r+m_i, tensor=M)\n",
    "\n",
    "#L = inner(Constant(1.0), v_r+v_i)*dx\n",
    "#b = PETScVector()\n",
    "#assemble_system(m_r+m_i, L, bcs, A_tensor=M, b_tensor=b)\n",
    "#assemble_system(m_r+m_i, L, A_tensor=M, b_tensor=b)\n",
    "\n",
    "# eigenvalue solver\n",
    "def compute_evals(A, E, M, r):\n",
    "    \n",
    "    # create eigensolver\n",
    "    eigensolver = SLEPcEigenSolver(A,M)\n",
    "    eigensolver.parameters['spectrum'] = 'smallest real'\n",
    "    eigensolver.parameters['solver']   = 'krylov-schur'\n",
    "    eigensolver.parameters['tolerance'] = 1.e-6   # 1.e-10\n",
    "    #eigensolver.parameters['maximum_iterations'] = 1000\n",
    "    #eigensolver.parameters['problem_type'] = 'gen_hermitian'\n",
    "\n",
    "    # solve for eigenvalues\n",
    "    eigensolver.solve(evals)\n",
    "    \n",
    "    for i in range(0,evals):\n",
    "        if i <= (eigensolver.get_number_converged()-1):\n",
    "            E[r][i] = eigensolver.get_eigenvalue(i)[0]\n",
    "    \n",
    "    #return np.sort(E)\n",
    "    return E\n",
    "\n",
    "program_starts = time.time()\n",
    "\n",
    "r = 0\n",
    "\n",
    "# main computation\n",
    "for xi in SHIFT:\n",
    "    \n",
    "    k_vec = K+xi*k1\n",
    "    k = Constant(k_vec)\n",
    "    \n",
    "    #spatial inversion symmetry breaking\n",
    "    #a_r = ( inner(C*(grad(u_r)-k*u_i), grad(v_r)-k*v_i) + inner(C*(grad(u_i)+k*u_r), grad(v_i)+k*v_r) )*dx\n",
    "    #a_i = ( inner(C*(grad(u_i)+k*u_r), grad(v_r)-k*v_i) - inner(C*(grad(u_r)-k*u_i), grad(v_i)+k*v_r) )*dx \n",
    "    \n",
    "    #time reversal symmetry breaking\n",
    "    a_r = ( inner(C_r*(grad(u_r)-k*u_i), grad(v_r)-k*v_i) + inner(C_r*(grad(u_i)+k*u_r), grad(v_i)+k*v_r) +\\\n",
    "           -inner(C_i*(grad(u_i)+k*u_r), grad(v_r)-k*v_i) + inner(C_i*(grad(u_r)-k*u_i), grad(v_i)+k*v_r) )*dx\n",
    "    a_i = ( inner(C_r*(grad(u_i)+k*u_r), grad(v_r)-k*v_i) - inner(C_r*(grad(u_r)-k*u_i), grad(v_i)+k*v_r) +\\\n",
    "           +inner(C_i*(grad(u_r)-k*u_i), grad(v_r)-k*v_i) + inner(C_i*(grad(u_i)+k*u_r), grad(v_i)+k*v_r) )*dx\n",
    "    \n",
    "    # assemble stiffness matrix\n",
    "    A = PETScMatrix()\n",
    "    \n",
    "    assemble(a_r+a_i, tensor=A)\n",
    "    [bc.apply(A) for bc in bcs]\n",
    "    \n",
    "    #assemble_system(a_r+a_i, L, bcs, A_tensor=A, b_tensor=b)\n",
    "    #assemble_system(a_r+a_i, L, A_tensor=A, b_tensor=b)\n",
    "    \n",
    "    E = compute_evals(A, E, M, r)\n",
    "    \n",
    "    r += 1\n",
    "    print r/float(J)\n",
    "    \n",
    "print time.time() - program_starts"
   ]
  },
  {
   "cell_type": "code",
   "execution_count": 14,
   "metadata": {
    "collapsed": false,
    "scrolled": true
   },
   "outputs": [
    {
     "data": {
      "image/png": "[encoded data removed]",
      "text/plain": [
       "<matplotlib.figure.Figure at 0x7f83fa05b910>"
      ]
     },
     "metadata": {},
     "output_type": "display_data"
    }
   ],
   "source": [
    "## Plotting eigenvalues\n",
    "\n",
    "#kpar = 2.0*np.pi*SHIFT + 2.0*np.pi/3.0\n",
    "kpar = 2.0*np.pi*SHIFT\n",
    "\n",
    "plt.plot(kpar,E,'k.')\n",
    "plt.plot(kpar,E[:,int(2*Ly)],'b.')\n",
    "plt.plot(kpar,E[:,int(2*Ly-2)],'b.')\n",
    "plt.plot(kpar,E[:,int(2*Ly-4)],'r.')\n",
    "plt.plot(kpar,E[:,int(2*Ly-6)],'r.')\n",
    "#plt.plot(kpar,E[:,int(2*Ly+16)],'y.')\n",
    "\n",
    "plt.xlabel('\\kpar')\n",
    "plt.ylabel('E')\n",
    "plt.title('E(kpar)')\n",
    "#plt.title('Time Reversal Symmetry Broken')\n",
    "#plt.title('Spatial Reversal Symmetry Broken')\n",
    "plt.grid(True)\n",
    "\n",
    "plt.show()"
   ]
  },
  {
   "cell_type": "code",
   "execution_count": 9,
   "metadata": {
    "collapsed": false
   },
   "outputs": [
    {
     "name": "stdout",
     "output_type": "stream",
     "text": [
      "E0= [53.769276674840661, 53.89307918596154, 54.796199794084799, 55.688380717288013, 56.503870089872571, 57.116697134108946, 57.51983461233344, 57.766463119844282, 57.849261432089392, 57.817797079026434, 57.702076005904495, 57.521531855144097, 57.342878173891364, 57.258463544210557, 57.195408208881545, 57.141294835434806, 57.072543218973181, 56.956250371725183, 56.765358775578456, 56.501237774978208, 56.196562394230241, 55.909943250934205, 56.039767384489302, 56.282127420315263, 56.584411774530324, 56.84774063727842, 56.658185567140535, 56.239321728045475, 55.845653956249862, 55.916214636188514, 56.233326322273783, 56.55789136023273, 56.847716836329795, 57.067481082028372, 57.210900589404673, 57.302688209244238, 57.376673855521034, 57.458295320563735, 57.560254632439268, 57.683534774701407, 57.818606300419432, 57.94565737930818, 58.033895058307699, 58.040085583734047, 57.907158602683282, 57.568633453218474, 56.978520734298357, 56.166729722155708, 55.225398694323175, 54.23433568974756, 53.463843964267888] ;\n",
      "Em2= [53.171320497695987, 53.764187058573953, 54.746907612283806, 55.621318439819483, 56.264945454397044, 56.988623920008322, 57.488183264690889, 57.667958827703131, 57.702423567505051, 57.64904712476347, 57.551268427130069, 57.440274862570277, 57.285190831470473, 57.020281504728061, 56.737684453627494, 56.459907452562312, 56.208127722310394, 56.001292720162681, 55.854781991692143, 55.779779301460898, 55.782966082439984, 55.851199547210783, 55.620959392164934, 55.415789716630997, 55.287339499247743, 55.244994685983983, 55.291886984710615, 55.425575021511285, 55.637068434280224, 55.507340059728051, 55.239186883901141, 55.040282203704486, 54.909743486065338, 54.843193872977579, 54.832908743945929, 54.867997942060846, 54.935061802027022, 55.01941199242988, 55.106697806057461, 55.184500808526636, 55.243310442137293, 55.276446895224161, 55.278910284663617, 55.245545912416993, 55.169128752399004, 55.039137904062969, 54.842584552761288, 54.569469335131416, 54.22405897482939, 53.831074176597447, 53.30203050183394] ;\n",
      "Em4= [52.571754621781309, 52.836635180751827, 52.071288377026235, 51.078912045979195, 49.99814819590074, 48.88224880561404, 47.759261446286843, 46.64552458458229, 45.551605517052707, 44.485769782030459, 43.456597679168794, 42.476143018365889, 41.662903491210393, 40.915306293904962, 40.177054973629453, 39.448696527869174, 38.8413350610207, 38.391261832613566, 37.981546680325408, 37.584576947948904, 37.182587487929965, 36.767050657878777, 36.725067788726932, 36.76928834575665, 36.803022140598515, 36.811574064861375, 36.79009972552744, 36.74143514432091, 36.67747652898889, 36.626561479833718, 37.05756499884717, 37.51212455644621, 37.953974398777639, 38.389978826319364, 38.832633270030655, 39.300326193830387, 39.971944820871862, 40.698821992220296, 41.432312367662497, 42.177779832236681, 42.944188652327938, 43.741975379546034, 44.580285026263496, 45.464413879331019, 46.394672431058453, 47.367612937162519, 48.381020788936468, 49.419109677809374, 50.466618779253636, 51.508540241894366, 52.472289451264011] ;\n",
      "Em6= [52.44895196531111, 51.839876687412094, 50.806079009905545, 49.756935539488836, 48.718292688651225, 47.702432500977238, 46.718899661389074, 45.775213049298934, 44.875853397593275, 44.02097529989129, 43.205926006620331, 42.421383523485211, 41.554482410064608, 40.718113287948668, 39.983487418038578, 39.359738691063804, 38.732188544046508, 38.054883684517492, 37.452808296148433, 37.000615614191396, 36.762621428930458, 36.700287130599094, 36.331161616247414, 35.882258466540002, 35.432550498450453, 35.062601414016171, 35.176010736068974, 35.62176392518694, 36.106278979142537, 36.587208403678218, 36.646135451341024, 36.842348596631808, 37.273495673914383, 37.869664627995498, 38.544019331691359, 39.251049278975842, 39.814368453576286, 40.396381465309531, 41.058656516447869, 41.801942669265799, 42.617138016229276, 43.490876476964218, 44.410210373872573, 45.364789152966779, 46.347103578492643, 47.35114726885547, 48.367840568748754, 49.399731866935198, 50.444914391675042, 51.487509281594427, 52.433141889795806] ;\n"
     ]
    }
   ],
   "source": [
    "print 'E0=', list(E[:,int(2*Ly)]), ';'\n",
    "print 'Em2=', list(E[:,int(2*Ly-2)]), ';'\n",
    "print 'Em4=', list(E[:,int(2*Ly-4)]), ';'\n",
    "print 'Em6=', list(E[:,int(2*Ly-6)]), ';'"
   ]
  },
  {
   "cell_type": "code",
   "execution_count": 10,
   "metadata": {
    "collapsed": false
   },
   "outputs": [],
   "source": [
    "## Plotting eigenfunctions\n",
    "    \n",
    "eigensolver = SLEPcEigenSolver(A,M)\n",
    "eigensolver.parameters['spectrum'] = 'smallest real'\n",
    "eigensolver.parameters['solver']   = 'krylov-schur'\n",
    "eigensolver.parameters['tolerance'] = 1.e-6   # 1.e-12\n",
    "eigensolver.solve(evals)"
   ]
  },
  {
   "cell_type": "code",
   "execution_count": 11,
   "metadata": {
    "collapsed": false
   },
   "outputs": [],
   "source": [
    "r, c, rx, cx = eigensolver.get_eigenpair(int(round(2*Ly+6)))\n",
    "u = Function(W)\n",
    "u.vector()[:] = rx\n",
    "u_r, u_i = split(u)\n",
    "plot(u_r)\n",
    "interactive()"
   ]
  },
  {
   "cell_type": "code",
   "execution_count": 12,
   "metadata": {
    "collapsed": true
   },
   "outputs": [],
   "source": [
    "# import scipy.io\n",
    "# scipy.io.savemat('matlab export/E_kpar_time.mat', dict(E=E, kpar=kpar))\n",
    "# scipy.io.savemat('matlab export/E_kpar_spatial.mat', dict(E=E, kpar=kpar))"
   ]
  },
  {
   "cell_type": "code",
   "execution_count": null,
   "metadata": {
    "collapsed": true
   },
   "outputs": [],
   "source": []
  }
 ],
 "metadata": {
  "kernelspec": {
   "display_name": "Python 2",
   "language": "python",
   "name": "python2"
  },
  "language_info": {
   "codemirror_mode": {
    "name": "ipython",
    "version": 2
   },
   "file_extension": ".py",
   "mimetype": "text/x-python",
   "name": "python",
   "nbconvert_exporter": "python",
   "pygments_lexer": "ipython2",
   "version": "2.7.12"
  }
 },
 "nbformat": 4,
 "nbformat_minor": 0
}
