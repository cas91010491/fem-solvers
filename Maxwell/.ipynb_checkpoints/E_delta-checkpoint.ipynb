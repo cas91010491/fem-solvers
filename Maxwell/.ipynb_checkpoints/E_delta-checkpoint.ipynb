{
 "cells": [
  {
   "cell_type": "code",
   "execution_count": 43,
   "metadata": {
    "collapsed": false
   },
   "outputs": [],
   "source": [
    "from fenics import * \n",
    "import matplotlib.pyplot as plt\n",
    "import numpy as np\n",
    "import time\n",
    "\n",
    "#suppress some output\n",
    "import logging\n",
    "logging.getLogger('FFC').setLevel(logging.WARNING)"
   ]
  },
  {
   "cell_type": "code",
   "execution_count": 44,
   "metadata": {
    "collapsed": true
   },
   "outputs": [],
   "source": [
    "## Simulation and mesh parameters\n",
    "\n",
    "# mesh size\n",
    "Lx = 1.0         \n",
    "Ly = 27.5\n",
    "\n",
    "# set grid size\n",
    "mx = 5\n",
    "my = int(mx*Ly/2.0)\n",
    "\n",
    "# delta slice\n",
    "J = 6\n",
    "DELTA = np.linspace(0.0,2.0,J);\n",
    "\n",
    "# number of eigenvalues\n",
    "evals = 2*int(Lx*Ly)\n",
    "E = np.zeros((J,evals))"
   ]
  },
  {
   "cell_type": "code",
   "execution_count": 45,
   "metadata": {
    "collapsed": false
   },
   "outputs": [],
   "source": [
    "## Mesh\n",
    "\n",
    "# set up honeycomb lattice\n",
    "q = 4*np.pi/(sqrt(3))\n",
    "k1 = q*np.array([1,sqrt(3)])/2.0\n",
    "k2 = q*np.array([1,-sqrt(3)])/2.0\n",
    "k3 = -(k1+k2)\n",
    "K = (k1-k2)/3\n",
    "\n",
    "v1_h = np.array([sqrt(3),1])/2.0\n",
    "v2_h = np.array([sqrt(3),-1])/2.0\n",
    "\n",
    "# different edges\n",
    "# a1 = 1; b1 = 1; a2 = 0; b2 = 1;     # armchair\n",
    "a1, b1, a2, b2 = 1, 0, 0, 1       # zigzag\n",
    "# a1 = 3; b1 = 2; a2 = 1; b2 = 1;     # general\n",
    "# a1 = 2; b1 = 1; a2 = 1; b2 = 1;     # general\n",
    "\n",
    "v1 = a1*v1_h + b1*v2_h\n",
    "v2 = a2*v1_h + b2*v2_h\n",
    "\n",
    "ktilde = -b1*k1+a1*k2         # general\n",
    "\n",
    "# quasimomentum slice\n",
    "quasimomentum = np.linspace(-0.2,0.0,J)\n",
    "boundary_0 = K[0]*np.ones((1,J)) + ktilde[0]*quasimomentum\n",
    "boundary_1 = K[1]*np.ones((1,J)) + ktilde[1]*quasimomentum\n",
    "boundary = np.concatenate((boundary_0,boundary_1),axis=0)\n",
    "\n",
    "# create mesh      \n",
    "def honeycomb_cylinder(x, y):\n",
    "    return [v1[0]*x + v2[0]*y, v1[1]*x + v2[1]*y]\n",
    "\n",
    "mesh = RectangleMesh(Point(-Lx/2,-Ly/2),Point(Lx/2,Ly/2),mx,my)#, 'left') # “left”, “right”, “left/right”, “crossed”\n",
    "x = mesh.coordinates()[:,0]\n",
    "y = mesh.coordinates()[:,1]\n",
    "\n",
    "x_hat, y_hat = honeycomb_cylinder(x, y)\n",
    "xy_hat_coor = np.array([x_hat, y_hat]).transpose()\n",
    "mesh.coordinates()[:] = xy_hat_coor\n",
    "#plot(mesh), interactive()"
   ]
  },
  {
   "cell_type": "code",
   "execution_count": 46,
   "metadata": {
    "collapsed": false
   },
   "outputs": [],
   "source": [
    "## Boundary Conditions\n",
    "\n",
    "# sub domain for Dirichlet boundary condition\n",
    "class DirichletBoundary(SubDomain):\n",
    "    def inside(self, x, on_boundary):\n",
    "        detv = v1[0]*v2[1] - v2[0]*v1[1]\n",
    "        y_r = (-v1[1]*x[0] + v1[0]*x[1])/detv\n",
    "        return bool( ( near(y_r, -Ly/2.0) or near(y_r, Ly/2.0) ) and on_boundary)\n",
    "    \n",
    "# sub domain for Periodic boundary condition\n",
    "class PeriodicBoundary(SubDomain):\n",
    "\n",
    "    # left boundary is \"target domain\" G\n",
    "    def inside(self, x, on_boundary):\n",
    "        detv = v1[0]*v2[1] - v2[0]*v1[1]\n",
    "        x_r = (v2[1]*x[0] - v2[0]*x[1])/detv\n",
    "        return bool( ( near(x_r, -Lx/2.0) and near(x_r, -Lx/2.0) ) and on_boundary)\n",
    "\n",
    "    # map right boundary (H) to left boundary (G)\n",
    "    def map(self, x, y):\n",
    "        detv = v1[0]*v2[1] - v2[0]*v1[1]\n",
    "        x_r = (v2[1]*x[0] - v2[0]*x[1])/detv\n",
    "        y_r = (-v1[1]*x[0] + v1[0]*x[1])/detv \n",
    "        \n",
    "        x_h = x_r - (Lx - 0)\n",
    "        y_h = y_r\n",
    "        \n",
    "        y[0] = v1[0]*x_h + v2[0]*y_h\n",
    "        y[1] = v1[1]*x_h + v2[1]*y_h"
   ]
  },
  {
   "cell_type": "code",
   "execution_count": 47,
   "metadata": {
    "collapsed": false
   },
   "outputs": [],
   "source": [
    "## Finite Elements\n",
    "\n",
    "# create boundary conditions\n",
    "# periodic\n",
    "periodic = PeriodicBoundary()\n",
    "# Dirichlet\n",
    "u0 = Constant(0.0)\n",
    "dbc = DirichletBoundary()\n",
    "\n",
    "W = FunctionSpace(mesh, \"CG\", 2, constrained_domain=periodic)\n",
    "bc0 = DirichletBC(W, u0, dbc)\n",
    "\n",
    "# define functions\n",
    "u = TrialFunction(W)\n",
    "v = TestFunction(W)"
   ]
  },
  {
   "cell_type": "code",
   "execution_count": 48,
   "metadata": {
    "collapsed": false
   },
   "outputs": [],
   "source": [
    "## Potential terms\n",
    "\n",
    "V_e = Expression('9.0-1.0*(cos(k10*x[0]+k11*x[1]) + cos(k20*x[0]+k21*x[1]) + cos(k30*x[0]+k31*x[1]))', \\\n",
    "                 k10=k1[0], k11=k1[1], k20=k2[0], k21=k2[1], k30=k3[0], k31=k3[1], degree=1)\n",
    "W_o = Expression('sin(k10*x[0]+k11*x[1]) + sin(k20*x[0]+k21*x[1]) + sin(k30*x[0]+k31*x[1])', \\\n",
    "                 k10=k1[0], k11=k1[1], k20=k2[0], k21=k2[1], k30=k3[0], k31=k3[1], degree=1)"
   ]
  },
  {
   "cell_type": "code",
   "execution_count": 49,
   "metadata": {
    "collapsed": false
   },
   "outputs": [
    {
     "name": "stdout",
     "output_type": "stream",
     "text": [
      "0.166666666667\n",
      "0.333333333333\n",
      "0.5\n",
      "0.666666666667\n",
      "0.833333333333\n",
      "1.0\n",
      "5.06585001945\n"
     ]
    }
   ],
   "source": [
    "## Computations\n",
    "\n",
    "# assemble mass matrix\n",
    "m = u*v*dx\n",
    "M = PETScMatrix()\n",
    "assemble(m, tensor=M)\n",
    "\n",
    "#L = inner(Constant(1), v)*dx\n",
    "#b = PETScVector()\n",
    "#assemble_system(m, L, A_tensor=M, b_tensor=b)\n",
    "\n",
    "# eigenvalue solver\n",
    "def compute_evals(A, E, M, r):\n",
    "    \n",
    "    # create eigensolver\n",
    "    eigensolver = SLEPcEigenSolver(A,M)\n",
    "    eigensolver.parameters['spectrum'] = 'smallest real'\n",
    "    eigensolver.parameters['solver']   = 'krylov-schur'    # 'krylov-schur' 'lapack'\n",
    "    eigensolver.parameters['tolerance'] = 1.e-8    # 1.e-15\n",
    "\n",
    "    # solve for eigenvalues\n",
    "    eigensolver.solve(evals)\n",
    "    \n",
    "    for i in range(0,evals):\n",
    "        if i <= (eigensolver.get_number_converged()-1):\n",
    "            E[r][i] = eigensolver.get_eigenvalue(i)[0]\n",
    "    \n",
    "    return np.sort(E)\n",
    "\n",
    "program_starts = time.time()\n",
    "\n",
    "r=0\n",
    "# main computation\n",
    "for delta in DELTA:\n",
    "\n",
    "    # define problem\n",
    "    kappa = Expression('tanh(delta*(k0*x[0]+k1*x[1]))', delta = delta, k0=ktilde[0], k1=ktilde[1], degree=1)\n",
    "    U_delta = V_e + delta*kappa*W_o\n",
    "    C = as_matrix( ((U_delta, 0.0), (0.0, U_delta)) )\n",
    "    a = ( inner(C*grad(u), grad(v)) )*dx\n",
    "    \n",
    "    # assemble stiffness matrix\n",
    "    A = PETScMatrix()\n",
    "    \n",
    "    assemble(a, tensor=A)\n",
    "    bc0.apply(A)\n",
    "    \n",
    "    # assemble_system(a, L, bc0, A_tensor=A, b_tensor=b)\n",
    "    \n",
    "    E = compute_evals(A, E, M, r)\n",
    "    \n",
    "    r += 1\n",
    "    print r/float(J)\n",
    "    \n",
    "print time.time() - program_starts"
   ]
  },
  {
   "cell_type": "code",
   "execution_count": 50,
   "metadata": {
    "collapsed": false
   },
   "outputs": [
    {
     "data": {
      "image/png": "[encoded data removed]",
      "text/plain": [
       "<matplotlib.figure.Figure at 0x7fa280d68350>"
      ]
     },
     "metadata": {},
     "output_type": "display_data"
    }
   ],
   "source": [
    "## Plotting eigenvalues\n",
    "\n",
    "plt.plot(E,DELTA,'k.')\n",
    "plt.plot(E[:,int(Ly-1)],DELTA,'r.')\n",
    "plt.show()"
   ]
  },
  {
   "cell_type": "code",
   "execution_count": 51,
   "metadata": {
    "collapsed": false
   },
   "outputs": [],
   "source": [
    "## Plotting eigenfunctions\n",
    "\n",
    "# eigensolver = SLEPcEigenSolver(A,M)\n",
    "# eigensolver.parameters['spectrum'] = 'smallest magnitude'\n",
    "# eigensolver.parameters['solver']   = 'krylov-schur'\n",
    "# eigensolver.parameters['tolerance'] = 1.e-10\n",
    "\n",
    "# eigensolver.solve(evals)\n",
    "\n",
    "# R, c, rx, cx = eigensolver.get_eigenpair(int(round(Ly-1)))\n",
    "# u = Function(V)\n",
    "# u.vector()[:] = rx\n",
    "# plot(u)\n",
    "# interactive()"
   ]
  },
  {
   "cell_type": "code",
   "execution_count": null,
   "metadata": {
    "collapsed": true
   },
   "outputs": [],
   "source": []
  }
 ],
 "metadata": {
  "kernelspec": {
   "display_name": "Python 2",
   "language": "python",
   "name": "python2"
  },
  "language_info": {
   "codemirror_mode": {
    "name": "ipython",
    "version": 2
   },
   "file_extension": ".py",
   "mimetype": "text/x-python",
   "name": "python",
   "nbconvert_exporter": "python",
   "pygments_lexer": "ipython2",
   "version": "2.7.12"
  }
 },
 "nbformat": 4,
 "nbformat_minor": 0
}
