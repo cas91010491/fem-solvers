{
 "cells": [
  {
   "cell_type": "code",
   "execution_count": 76,
   "metadata": {
    "collapsed": false
   },
   "outputs": [],
   "source": [
    "from fenics import * \n",
    "import matplotlib.pyplot as plt\n",
    "import numpy as np\n",
    "import time\n",
    "\n",
    "#suppress some output\n",
    "import logging\n",
    "logging.getLogger('FFC').setLevel(logging.WARNING)"
   ]
  },
  {
   "cell_type": "code",
   "execution_count": 77,
   "metadata": {
    "collapsed": false
   },
   "outputs": [],
   "source": [
    "## Simulation and mesh parameters\n",
    "\n",
    "# mesh size\n",
    "Lx = 1.0         \n",
    "Ly = 1.0\n",
    "\n",
    "# set grid size\n",
    "mx = 20\n",
    "my = int(mx*Ly)\n",
    "\n",
    "# delta slice\n",
    "J = 11\n",
    "DELTA = np.linspace(0.0,1.0,J);\n",
    "\n",
    "# number of eigenvalues\n",
    "evals = 2*2*int(Lx*Ly)\n",
    "E = np.zeros((2,J,evals))"
   ]
  },
  {
   "cell_type": "code",
   "execution_count": 78,
   "metadata": {
    "collapsed": false
   },
   "outputs": [],
   "source": [
    "## Mesh\n",
    "\n",
    "# set up honeycomb lattice\n",
    "q = 4*np.pi/(sqrt(3))\n",
    "k1 = q*np.array([1,sqrt(3)])/2.0\n",
    "k2 = q*np.array([1,-sqrt(3)])/2.0\n",
    "k3 = -(k1+k2)\n",
    "K = (k1-k2)/3\n",
    "\n",
    "v1_h = np.array([sqrt(3),1])/2.0\n",
    "v2_h = np.array([sqrt(3),-1])/2.0\n",
    "\n",
    "# different edges\n",
    "# a1 = 1; b1 = 1; a2 = 0; b2 = 1;     # armchair\n",
    "a1, b1, a2, b2 = 1, 0, 0, 1       # zigzag\n",
    "# a1 = 3; b1 = 2; a2 = 1; b2 = 1;     # general\n",
    "# a1 = 2; b1 = 1; a2 = 1; b2 = 1;     # general\n",
    "\n",
    "v1 = a1*v1_h + b1*v2_h\n",
    "v2 = a2*v1_h + b2*v2_h\n",
    "\n",
    "ktilde = -b1*k1+a1*k2         # general\n",
    "\n",
    "# quasimomentum slice\n",
    "quasimomentum = np.linspace(0.0,0.5,2)\n",
    "boundary_0 = K[0]*np.ones((1,2)) + ktilde[0]*quasimomentum\n",
    "boundary_1 = K[1]*np.ones((1,2)) + ktilde[1]*quasimomentum\n",
    "boundary = np.concatenate((boundary_0,boundary_1),axis=0)\n",
    "\n",
    "# create mesh      \n",
    "def honeycomb_cylinder(x, y):\n",
    "    return [v1[0]*x + v2[0]*y, v1[1]*x + v2[1]*y]\n",
    "\n",
    "mesh = RectangleMesh(Point(-Lx/2,-Ly/2),Point(Lx/2,Ly/2),mx,my)#, 'left') # “left”, “right”, “left/right”, “crossed”\n",
    "x = mesh.coordinates()[:,0]\n",
    "y = mesh.coordinates()[:,1]\n",
    "\n",
    "x_hat, y_hat = honeycomb_cylinder(x, y)\n",
    "xy_hat_coor = np.array([x_hat, y_hat]).transpose()\n",
    "mesh.coordinates()[:] = xy_hat_coor\n",
    "#plot(mesh), interactive()"
   ]
  },
  {
   "cell_type": "code",
   "execution_count": 79,
   "metadata": {
    "collapsed": false
   },
   "outputs": [],
   "source": [
    "## Boundary Conditions\n",
    "\n",
    "# sub domain for Dirichlet boundary condition\n",
    "class DirichletBoundary(SubDomain):\n",
    "    def inside(self, x, on_boundary):\n",
    "        detv = v1[0]*v2[1] - v2[0]*v1[1]\n",
    "        y_r = (-v1[1]*x[0] + v1[0]*x[1])/detv\n",
    "        return bool( ( near(y_r, -Ly/2.0) or near(y_r, Ly/2.0) ) and on_boundary)\n",
    "    \n",
    "# sub domain for Periodic boundary condition\n",
    "class PeriodicBoundary(SubDomain):\n",
    "\n",
    "    # left boundary is \"target domain\" G\n",
    "    def inside(self, x, on_boundary):\n",
    "        detv = v1[0]*v2[1] - v2[0]*v1[1]\n",
    "        x_r = (v2[1]*x[0] - v2[0]*x[1])/detv\n",
    "        return bool( ( near(x_r, -Lx/2.0) and near(x_r, -Lx/2.0) ) and on_boundary)\n",
    "\n",
    "    # map right boundary (H) to left boundary (G)\n",
    "    def map(self, x, y):\n",
    "        detv = v1[0]*v2[1] - v2[0]*v1[1]\n",
    "        x_r = (v2[1]*x[0] - v2[0]*x[1])/detv\n",
    "        y_r = (-v1[1]*x[0] + v1[0]*x[1])/detv \n",
    "        \n",
    "        x_h = x_r - (Lx - 0)\n",
    "        y_h = y_r\n",
    "        \n",
    "        y[0] = v1[0]*x_h + v2[0]*y_h\n",
    "        y[1] = v1[1]*x_h + v2[1]*y_h\n",
    "        \n",
    "## perfectly periodic problem\n",
    "\n",
    "# sub domain for Periodic boundary condition\n",
    "class PerfectlyPeriodicBoundary(SubDomain):\n",
    "\n",
    "    # left boundary is \"target domain\" G\n",
    "    def inside(self, x, on_boundary):\n",
    "        detv = v1[0]*v2[1] - v2[0]*v1[1]\n",
    "        x_r = (v2[1]*x[0] - v2[0]*x[1])/detv\n",
    "        y_r = (-v1[1]*x[0] + v1[0]*x[1])/detv \n",
    "        \n",
    "        return bool( (near(x_r, -Lx/2.0) or near(y_r, -Ly/2.0)) and \n",
    "                    (not ((near(x_r, -Lx/2.0) and near(y_r, +Ly/2.0)) or \n",
    "                            (near(x_r, +Lx/2.0) and near(y_r, -Ly/2.0))) ) and on_boundary)\n",
    "        \n",
    "    # map right boundary (H) to left boundary (G)\n",
    "    def map(self, x, y):\n",
    "        detv = v1[0]*v2[1] - v2[0]*v1[1]\n",
    "        x_r = (v2[1]*x[0] - v2[0]*x[1])/detv\n",
    "        y_r = (-v1[1]*x[0] + v1[0]*x[1])/detv \n",
    "        \n",
    "        if near(x_r, +Lx/2.0) and near(y_r, +Ly/2.0):\n",
    "            x_h = x_r  - Lx - 0.0\n",
    "            y_h = y_r - Ly - 0.0\n",
    "        elif near(x_r, +Lx/2.0):\n",
    "            x_h = x_r  - Lx - 0.0\n",
    "            y_h = y_r\n",
    "        else:   # near(y_r, +Ly/2.0)\n",
    "            x_h = x_r \n",
    "            y_h = y_r - Ly - 0.0\n",
    "            \n",
    "        y[0] = v1[0]*x_h + v2[0]*y_h\n",
    "        y[1] = v1[1]*x_h + v2[1]*y_h"
   ]
  },
  {
   "cell_type": "code",
   "execution_count": 80,
   "metadata": {
    "collapsed": false
   },
   "outputs": [],
   "source": [
    "## Finite Elements\n",
    "\n",
    "# periodic = PeriodicBoundary()\n",
    "periodic = PerfectlyPeriodicBoundary()\n",
    "\n",
    "#V = FunctionSpace(mesh, \"CG\", 2, constrained_domain=periodic)\n",
    "\n",
    "P2 = FiniteElement(\"P\", triangle, 2)\n",
    "element = MixedElement([P2, P2])\n",
    "W = FunctionSpace(mesh, element, constrained_domain=periodic)\n",
    "\n",
    "# define functions\n",
    "(u_r, u_i) = TrialFunctions(W)\n",
    "(v_r, v_i) = TestFunctions(W)"
   ]
  },
  {
   "cell_type": "code",
   "execution_count": 81,
   "metadata": {
    "collapsed": false
   },
   "outputs": [],
   "source": [
    "## Potential terms\n",
    "V_e = Expression('4.0-1.0*(cos(k10*x[0]+k11*x[1]) + cos(k20*x[0]+k21*x[1]) + cos(k30*x[0]+k31*x[1]))', \\\n",
    "                 k10=k1[0], k11=k1[1], k20=k2[0], k21=k2[1], k30=k3[0], k31=k3[1], degree=1)\n",
    "W_o = Expression('sin(k10*x[0]+k11*x[1]) + sin(k20*x[0]+k21*x[1]) + sin(k30*x[0]+k31*x[1])', \\\n",
    "                 k10=k1[0], k11=k1[1], k20=k2[0], k21=k2[1], k30=k3[0], k31=k3[1], degree=1)\n",
    "V_e_2 = Expression('cos(k10*x[0]+k11*x[1]) + cos(k20*x[0]+k21*x[1]) + cos(k30*x[0]+k31*x[1])', \\\n",
    "                 k10=k1[0], k11=k1[1], k20=k2[0], k21=k2[1], k30=k3[0], k31=k3[1], degree=1)\n",
    "\n",
    "# quasimomentum\n",
    "k = Constant(K)\n",
    "#k = Constant((0,0))\n",
    "#k = Constant(K+(1/2.0-1/3.0)*k1)"
   ]
  },
  {
   "cell_type": "code",
   "execution_count": 82,
   "metadata": {
    "collapsed": false,
    "scrolled": true
   },
   "outputs": [
    {
     "name": "stdout",
     "output_type": "stream",
     "text": [
      "0.0909090909091\n",
      "0.181818181818\n",
      "0.272727272727\n",
      "0.363636363636\n",
      "0.454545454545\n",
      "0.545454545455\n",
      "0.636363636364\n",
      "0.727272727273\n",
      "0.818181818182\n",
      "0.909090909091\n",
      "1.0\n",
      "86.4375691414\n"
     ]
    }
   ],
   "source": [
    "## Computations\n",
    "\n",
    "# assemble mass matrix\n",
    "m_r = (u_r*v_r + u_i*v_i)*dx\n",
    "m_i = (-u_r*v_i + u_i*v_r)*dx\n",
    "M = PETScMatrix()\n",
    "assemble(m_r+m_i, tensor=M)\n",
    "\n",
    "#L = inner(Constant(1.0), v_r+v_i)*dx\n",
    "#b = PETScVector()\n",
    "#assemble_system(m_r+m_i, L, A_tensor=M, b_tensor=b)\n",
    "\n",
    "# eigenvalue solver\n",
    "def compute_evals(A, E, M, l, r):\n",
    "    \n",
    "    # create eigensolver\n",
    "    eigensolver = SLEPcEigenSolver(A,M)\n",
    "    eigensolver.parameters['spectrum'] = 'smallest real'\n",
    "    eigensolver.parameters['solver']   = 'krylov-schur'\n",
    "    eigensolver.parameters['tolerance'] = 1.e-10   # 1.e-12\n",
    "    #eigensolver.parameters['maximum_iterations'] = 1000\n",
    "    #eigensolver.parameters['problem_type'] = 'gen_hermitian'\n",
    "\n",
    "\n",
    "    # solve for eigenvalues\n",
    "    eigensolver.solve(evals)\n",
    "    \n",
    "    for i in range(0,evals):\n",
    "        if i <= (eigensolver.get_number_converged()-1):\n",
    "            E[l][r][i] = eigensolver.get_eigenvalue(i)[0]\n",
    "    \n",
    "    #return np.sort(E)\n",
    "    return E\n",
    "\n",
    "program_starts = time.time()\n",
    "\n",
    "r = 0\n",
    "\n",
    "# main computation\n",
    "for delta in DELTA:\n",
    "    \n",
    "    l = 0\n",
    "    #time reversal symmetry breaking\n",
    "    C_r = as_matrix( ((V_e, 0.0), (0.0, V_e)) )\n",
    "    C_i = as_matrix( ((0.0, -delta*V_e_2), (delta*V_e_2, 0.0)) )\n",
    "    \n",
    "    for k_vec in boundary.transpose():\n",
    "    \n",
    "        k = Constant(k_vec)\n",
    "\n",
    "        # define problem \n",
    "        a_r = ( inner(C_r*(grad(u_r)-k*u_i), grad(v_r)-k*v_i) + inner(C_r*(grad(u_i)+k*u_r), grad(v_i)+k*v_r) +\\\n",
    "               -inner(C_i*(grad(u_i)+k*u_r), grad(v_r)-k*v_i) + inner(C_i*(grad(u_r)-k*u_i), grad(v_i)+k*v_r) )*dx\n",
    "        a_i = ( inner(C_r*(grad(u_i)+k*u_r), grad(v_r)-k*v_i) - inner(C_r*(grad(u_r)-k*u_i), grad(v_i)+k*v_r) +\\\n",
    "               +inner(C_i*(grad(u_r)-k*u_i), grad(v_r)-k*v_i) + inner(C_i*(grad(u_i)+k*u_r), grad(v_i)+k*v_r) )*dx\n",
    "\n",
    "        # assemble stiffness matrix\n",
    "        A = PETScMatrix()\n",
    "        assemble(a_r+a_i, tensor=A)\n",
    "\n",
    "        # assemble_system(a_r+a_i, L, bcs, A_tensor=A, b_tensor=b)\n",
    "\n",
    "        E = compute_evals(A, E, M, l, r)\n",
    "        \n",
    "        l += 1\n",
    "\n",
    "    r += 1\n",
    "    print r/float(J)\n",
    "    \n",
    "print time.time() - program_starts"
   ]
  },
  {
   "cell_type": "code",
   "execution_count": 83,
   "metadata": {
    "collapsed": false
   },
   "outputs": [
    {
     "name": "stdout",
     "output_type": "stream",
     "text": [
      "ymin = [16.530938706935174, 16.514118045505537, 16.463485621300695, 16.378526430980312, 16.258369774958791, 16.10177039731478, 15.90708148111581, 15.672218887715575, 15.394615968233508, 15.071168190774634, 14.698166914139179] ;\n",
      "\n",
      "ymax = [62.417415779303155, 60.782357781724635, 58.992159103824335, 57.106326276676491, 55.127803370871447, 53.0590278319278, 50.902144090418822, 48.659064148120493, 46.331505318114779, 43.921020123523135, 41.429021699103231] ;\n",
      "\n",
      "ymin = [73.145577842684474, 73.143723045302949, 65.551966222359155, 66.926734448277699, 68.186482479278695, 69.325396543001503, 70.336836614667789, 71.213074168663312, 71.944650123182925, 72.516838713079451, 72.856706390886217] ;\n",
      "\n",
      "ymax = [109.14698489661025, 108.74190388699783, 107.64560238098923, 106.07177195236606, 104.1760330022765, 102.04705478896032, 99.734913507015534, 97.270196989410437, 94.673606734302737, 91.960618001315098, 89.143808249787341] ;\n",
      "\n"
     ]
    }
   ],
   "source": [
    "for x in range(0,3,2):\n",
    "    Emin = [1e4]*J\n",
    "    Emax = [0]*J\n",
    "    for Eslice in E:\n",
    "        for j in range(len(Eslice)):\n",
    "            #newMin = min([e for e in Eslice[j] if e>0])\n",
    "            if Eslice[j][x] == 0.0:\n",
    "                continue\n",
    "            if Eslice[j][x] < Emin[j]:\n",
    "                Emin[j] = Eslice[j][x]\n",
    "            if Eslice[j][x] > Emax[j]:\n",
    "                Emax[j] = Eslice[j][x]\n",
    "    print 'ymin =', Emin, ';'\n",
    "    print ''\n",
    "    print 'ymax =', Emax, ';'\n",
    "    print ''\n",
    "  \n",
    "# MATLAB plotting\n",
    "# x = [ymin(1),ymax,ymin]\n",
    "# y = [0,linspace(0,1,11),linspace(1,0,11)]\n",
    "# figure; fill(x,y,'k')\n",
    "# hold on; fill(x,y,'k')"
   ]
  },
  {
   "cell_type": "code",
   "execution_count": 84,
   "metadata": {
    "collapsed": false
   },
   "outputs": [
    {
     "data": {
      "text/plain": [
       "array([[[  62.41741578,   62.53416999,   73.14557784,    0.        ],\n",
       "        [  60.78235778,   64.06747815,   73.14372305,    0.        ],\n",
       "        [  58.9921591 ,   58.9921591 ,   65.55196622,   73.13815033],\n",
       "        [  57.10632628,   57.10632628,   66.92673445,   73.12883603],\n",
       "        [  55.12780337,   55.12780337,   68.18648248,   73.11574625],\n",
       "        [  53.05902783,   53.05902783,   69.32539654,   73.09885057],\n",
       "        [  50.90214409,   50.90214409,   70.33683661,   73.07816048],\n",
       "        [  48.65906415,   48.65906415,   71.21307417,   73.05385276],\n",
       "        [  46.33150532,   46.33150532,   71.94465012,   73.02677828],\n",
       "        [  43.92102012,   43.92102012,   72.51683871,   73.00185688],\n",
       "        [  41.4290217 ,   41.4290217 ,   72.85670639,    0.        ]],\n",
       "\n",
       "       [[  16.53093871,   16.53093871,  109.1469849 ,    0.        ],\n",
       "        [  16.51411805,   16.51411805,  108.74190389,    0.        ],\n",
       "        [  16.46348562,   16.46348562,  107.64560238,    0.        ],\n",
       "        [  16.37852643,   16.37852643,  106.07177195,    0.        ],\n",
       "        [  16.25836977,   16.25836978,  104.176033  ,    0.        ],\n",
       "        [  16.1017704 ,   16.1017704 ,  102.04705479,  102.04705479],\n",
       "        [  15.90708148,   15.90708148,   99.73491351,    0.        ],\n",
       "        [  15.67221889,   15.67221889,   97.27019699,   97.27019699],\n",
       "        [  15.39461597,   15.39461597,   94.67360673,    0.        ],\n",
       "        [  15.07116819,   15.07116819,   91.960618  ,   91.960618  ],\n",
       "        [  14.69816691,   14.69816691,   89.14380825,    0.        ]]])"
      ]
     },
     "execution_count": 84,
     "metadata": {},
     "output_type": "execute_result"
    }
   ],
   "source": [
    "E"
   ]
  },
  {
   "cell_type": "code",
   "execution_count": null,
   "metadata": {
    "collapsed": true
   },
   "outputs": [],
   "source": []
  }
 ],
 "metadata": {
  "kernelspec": {
   "display_name": "Python 2",
   "language": "python",
   "name": "python2"
  },
  "language_info": {
   "codemirror_mode": {
    "name": "ipython",
    "version": 2
   },
   "file_extension": ".py",
   "mimetype": "text/x-python",
   "name": "python",
   "nbconvert_exporter": "python",
   "pygments_lexer": "ipython2",
   "version": "2.7.12"
  }
 },
 "nbformat": 4,
 "nbformat_minor": 0
}
